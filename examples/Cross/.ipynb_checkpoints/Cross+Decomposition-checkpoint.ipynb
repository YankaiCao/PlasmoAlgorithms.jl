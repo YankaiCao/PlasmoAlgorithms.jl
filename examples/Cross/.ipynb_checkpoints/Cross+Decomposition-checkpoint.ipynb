{
 "cells": [
  {
   "cell_type": "markdown",
   "metadata": {},
   "source": [
    "# Cross Decomposition Example\n",
    "\n",
    "Original Model: \n",
    "\n",
    "$ \\min \\> x_1 + 2x_2 +3y + 4w\\\\\n",
    "s.t. \\> \\>\n",
    "x_1 + x_2 + y \\geq 6\\\\\n",
    "-3x_1 - 2x_2 + w \\geq 7\\\\\n",
    "10 \\geq x,y,w \\geq 0\\\\\n",
    "$ \n",
    "\n",
    "Reformulated Model:\n",
    "\n",
    "$\\min \\> 0.5x_{A1} + x_{A2}+ 0.5x_{B1} + x_{B2} + 3y + 4w\\\\\n",
    "s.t. \\> \\>\n",
    "x_{A1}+x_{A2}+ y \\geq 6\\\\\n",
    "-3x_{B1}+2x_{B2}+w\\geq 7\\\\\n",
    "x_{A1}-x_{B1} = 0\\\\\n",
    "x_{A2}-x_{B2} = 0\\\\\n",
    "$\n",
    "\n",
    "Lagrange Master Problem:\n",
    "\n",
    "$ \\max \\> \\eta \\\\\n",
    "s.t. \\> \\> \\eta \\leq \\sum\\kappa_s\\\\\n",
    "\\kappa \\geq 0\\\\\n",
    "$\n",
    "\n",
    "Lagrange SP 1:\n",
    "\n",
    "$ \\min \\> 0.5x_{A1} + x_{A2} + 3y +\\lambda_1^k(x_{A1} + x_{A2})\\\\\n",
    "   s.t. \\> \\> x_{A1}+x_{A2}+ y \\geq 6\\\\ \\\\\n",
    "   x_A,y \\geq 0 \\\\\n",
    "$\n",
    "\n",
    "Lagrange SP 2:\n",
    "\n",
    "$ \\min \\> 0.5x_{B1} + x_{B2} + 4w - \\lambda_2^k(x_{B1} + x_{B2})\\\\\n",
    "   s.t. \\> \\> -3x_{B1}+2x_{B2}+w\\geq 7 \\\\\n",
    "   x_B,w \\geq 0 \\\\\n",
    "$"
   ]
  },
  {
   "cell_type": "markdown",
   "metadata": {},
   "source": [
    "Bender's Master Problem:\n",
    "\n",
    "$\\min \\> \\theta_1 + \\theta_2 \\\\ \n",
    "s.t. \\> \\> x, \\theta \\geq 0\\\\\n",
    "$\n",
    "\n",
    "\n",
    "Bender's SP 1:\n",
    "\n",
    "$ \\min \\> 0.5\\bar x_1 + \\bar x_2 + 3y \\\\\n",
    "s.t. \\> \\>  - y \\leq -6 + \\bar x_1 + \\bar x_2\\\\\n",
    "y \\geq 0 \\\\\n",
    "$\n",
    "\n",
    "\n",
    "Bender's SP 2:\n",
    "\n",
    "$ \\min \\> 0.5\\bar x_1 + \\bar x_2 + 4w \\\\\n",
    "s.t. \\> \\> - w \\leq -7 -3\\bar x_1 + 2\\bar x_2 \\\\\n",
    "w \\geq 0 \\\\\n",
    "$\n",
    "\n",
    "Bender's DSP 1:\n",
    "\n",
    "$ \\max \\> 0.5\\bar x_1 + \\bar x_2 + \\mu_1(6 - \\bar x_1 - \\bar x_2)\\\\\n",
    "s.t. \\> \\> \\mu_1 \\leq 3\\\\\n",
    "\\mu \\geq 0 \\\\\n",
    "$\n",
    "\n",
    "\n",
    "Bender's DSP 2:\n",
    "\n",
    "$ \\max \\> 0.5\\bar x_1 + \\bar x_2 + \\mu_2(7 + 3\\bar x_1 - 2\\bar x_2)\\\\\n",
    "s.t. \\> \\> \\mu_2 \\leq 4\\\\\n",
    "\\mu \\geq 0 \\\\\n",
    "$"
   ]
  },
  {
   "cell_type": "markdown",
   "metadata": {},
   "source": [
    "Write BMP and BDSPs in Julia:"
   ]
  },
  {
   "cell_type": "code",
   "execution_count": 43,
   "metadata": {
    "collapsed": true
   },
   "outputs": [],
   "source": [
    "using JuMP\n",
    "using Gurobi\n",
    "BMP = Model(solver = GurobiSolver())\n",
    "BDSP1 = Model(solver = GurobiSolver())\n",
    "BDSP2 = Model(solver = GurobiSolver())\n",
    "\n",
    "@variable(BMP, x[1:2] >= 0)\n",
    "@variable(BMP, θ[1:2] >= 0)\n",
    "\n",
    "\n",
    "@objective(BMP, Min, θ[1]+θ[2])\n",
    "\n",
    "@variable(BDSP1, xbar[1:2])\n",
    "@variable(BDSP1, μ>=0)\n",
    "\n",
    "@constraint(BDSP1, μ<=3)\n",
    "@objective(BDSP1, Max, 0.5*xbar[1] + xbar[2] + μ*(6-xbar[1]-xbar[2]))\n",
    "\n",
    "@variable(BDSP2, xbar[1:2])\n",
    "@variable(BDSP2, μ>=0)\n",
    "\n",
    "@constraint(BDSP2, μ<=4)\n",
    "@objective(BDSP2, Max, 0.5*xbar[1] + xbar[2] + μ*(7+3*xbar[1]-2*xbar[2]));"
   ]
  },
  {
   "cell_type": "markdown",
   "metadata": {},
   "source": [
    "Write LMP and LSPs in Julia:"
   ]
  },
  {
   "cell_type": "code",
   "execution_count": 44,
   "metadata": {},
   "outputs": [],
   "source": [
    "LMP = Model(solver = GurobiSolver())\n",
    "LSP1 = Model(solver = GurobiSolver())\n",
    "LSP2 = Model(solver = GurobiSolver())\n",
    "\n",
    "@variable(LMP, κ[1:2])\n",
    "@variable(LMP, η)\n",
    "@variable(LMP, λ[1:2])\n",
    "\n",
    "@constraint(LMP, η <= κ[1] + κ[2])\n",
    "\n",
    "@objective(LMP, Max, η)\n",
    "\n",
    "@variable(LSP1, xA[1:2]>=0)\n",
    "@variable(LSP1, y>= 0)\n",
    "@variable(LSP1, λ)\n",
    "\n",
    "@constraint(LSP1, xA[1:2].<=10)\n",
    "@constraint(LSP1, xA[1]+xA[2]+y>=6)\n",
    "@objective(LSP1, Min, .5*xA[1]+xA[2]+3y+λ*(xA[1]+xA[2]))\n",
    "\n",
    "\n",
    "@variable(LSP2, xB[1:2]>=0)\n",
    "@variable(LSP2, w>= 0)\n",
    "@variable(LSP2, λ)\n",
    "\n",
    "@constraint(LSP2, xB[1:2].<=10)\n",
    "@constraint(LSP2, -3xB[1]+2*xB[2]+w>=7)\n",
    "@objective(LSP2, Min, .5*xB[1] + xB[2] + 4w - λ*(xB[1] + xB[2]));"
   ]
  },
  {
   "cell_type": "markdown",
   "metadata": {},
   "source": [
    "Initialize $(\\bar x_1, \\bar x_2) = (0,0)$:"
   ]
  },
  {
   "cell_type": "code",
   "execution_count": 45,
   "metadata": {
    "collapsed": true
   },
   "outputs": [],
   "source": [
    "x = getindex(BDSP1, :xbar)\n",
    "setlowerbound(x[1],0)\n",
    "setupperbound(x[1],0)\n",
    "\n",
    "setlowerbound(x[2],0)\n",
    "setupperbound(x[2],0)\n",
    "\n",
    "x = getindex(BDSP2, :xbar)\n",
    "setlowerbound(x[1],0)\n",
    "setupperbound(x[1],0)\n",
    "\n",
    "setlowerbound(x[2],0)\n",
    "setupperbound(x[2],0);"
   ]
  },
  {
   "cell_type": "markdown",
   "metadata": {},
   "source": [
    "Initialize $(\\lambda_1, \\lambda_2) = (0,0)$:"
   ]
  },
  {
   "cell_type": "code",
   "execution_count": 46,
   "metadata": {
    "collapsed": true
   },
   "outputs": [],
   "source": [
    "λ = getindex(LSP1, :λ)\n",
    "setupperbound(λ,0)\n",
    "setlowerbound(λ,0)\n",
    "\n",
    "λ = getindex(LSP2, :λ)\n",
    "setupperbound(λ,0)\n",
    "setlowerbound(λ,0);"
   ]
  },
  {
   "cell_type": "markdown",
   "metadata": {},
   "source": [
    "# BDSPs to BMP\n",
    "\n",
    "First we solve the BDSPs and make a cut to the BMP such that:\n",
    "\n",
    "$\\theta_s \\geq \\tau_sc^Tx + (A_1x-b_1)^Tu_s^k$"
   ]
  },
  {
   "cell_type": "code",
   "execution_count": 55,
   "metadata": {},
   "outputs": [
    {
     "name": "stdout",
     "output_type": "stream",
     "text": [
      "Optimize a model with 1 rows, 3 columns and 1 nonzeros\r\n",
      "Model has 2 quadratic objective terms\r\n",
      "Coefficient statistics:\r\n",
      "  Matrix range     [1e+00, 1e+00]\r\n",
      "  Objective range  [5e-01, 6e+00]\r\n",
      "  QObjective range [2e+00, 2e+00]\r\n",
      "  Bounds range     [9e+00, 9e+00]\r\n",
      "  RHS range        [3e+00, 3e+00]\r\n",
      "Presolve removed 1 rows and 3 columns\r\n",
      "Presolve time: 0.00s\r\n",
      "Presolve: All rows and columns removed\r\n",
      "\r\n",
      "Barrier solved model in 0 iterations and 0.00 seconds\r\n",
      "Optimal objective 9.00000000e+00\r\n",
      "Optimize a model with 1 rows, 3 columns and 1 nonzeros\r\n",
      "Model has 2 quadratic objective terms\r\n",
      "Coefficient statistics:\r\n",
      "  Matrix range     [1e+00, 1e+00]\r\n",
      "  Objective range  [5e-01, 7e+00]\r\n",
      "  QObjective range [4e+00, 6e+00]\r\n",
      "  Bounds range     [9e+00, 9e+00]\r\n",
      "  RHS range        [4e+00, 4e+00]\r\n",
      "Presolve removed 1 rows and 3 columns\r\n",
      "Presolve time: 0.00s\r\n",
      "Presolve: All rows and columns removed\r\n",
      "\r\n",
      "Barrier solved model in 0 iterations and 0.00 seconds\r\n",
      "Optimal objective 9.00000000e+00\r\n",
      "Optimize a model with 6 rows, 4 columns and 14 nonzeros\r\n",
      "Coefficient statistics:\r\n",
      "  Matrix range     [5e-01, 1e+01]\r\n",
      "  Objective range  [1e+00, 1e+00]\r\n",
      "  Bounds range     [0e+00, 0e+00]\r\n",
      "  RHS range        [3e+00, 3e+01]\r\n",
      "Iteration    Objective       Primal Inf.    Dual Inf.      Time\r\n",
      "       0    6.5000000e+00   8.500000e+00   0.000000e+00      0s\r\n",
      "       3    1.1000000e+01   0.000000e+00   0.000000e+00      0s\r\n",
      "\r\n",
      "Solved in 3 iterations and 0.00 seconds\r\n",
      "Optimal objective  1.100000000e+01\r\n"
     ]
    }
   ],
   "source": [
    "solve(BDSP1)\n",
    "μ = getindex(BDSP1, :μ)\n",
    "\n",
    "θ = getindex(BMP, :θ)\n",
    "x = getindex(BMP, :x)\n",
    "@constraint(BMP, θ[1]>= 0.5*x[1] + x[2] + getvalue(μ)*(6-x[1]-x[2]))\n",
    "\n",
    "solve(BDSP2)\n",
    "μ = getindex(BDSP2, :μ)\n",
    "\n",
    "@constraint(BMP,  θ[2]>= 0.5*x[1] + x[2] + getvalue(μ)*(7+3x[1]-2*x[2]))\n",
    "\n",
    "solve(BMP)\n",
    "xbar = getindex(BDSP1, :xbar)\n",
    "setlowerbound(xbar[1],getvalue(x[1]))\n",
    "setupperbound(xbar[1],getvalue(x[1]))\n",
    "\n",
    "setlowerbound(xbar[2],getvalue(x[2]))\n",
    "setupperbound(xbar[2],getvalue(x[2]))\n",
    "\n",
    "xbar = getindex(BDSP2, :xbar)\n",
    "setlowerbound(xbar[1],getvalue(x[1]))\n",
    "setupperbound(xbar[1],getvalue(x[1]))\n",
    "\n",
    "setlowerbound(xbar[2],getvalue(x[2]))\n",
    "setupperbound(xbar[2],getvalue(x[2]));"
   ]
  },
  {
   "cell_type": "code",
   "execution_count": 56,
   "metadata": {},
   "outputs": [
    {
     "name": "stdout",
     "output_type": "stream",
     "text": [
      "Min θ[1] + θ[2]\n",
      "Subject to\n",
      " θ[1] + 2.5 x[1] + 2 x[2] >= 18\n",
      " θ[2] - 12.5 x[1] + 7 x[2] >= 28\n",
      " θ[1] >= 3.0000000000028884\n",
      " θ[2] >= 3.500000000000036\n",
      " θ[1] - 0.5 x[1] - x[2] >= 0\n",
      " θ[2] - 0.5 x[1] - x[2] >= 0\n",
      " x[i] >= 0 for all i in {1,2}\n",
      " θ[i] >= 0 for all i in {1,2}\n"
     ]
    }
   ],
   "source": [
    "print(BMP)"
   ]
  },
  {
   "cell_type": "markdown",
   "metadata": {},
   "source": [
    "# BDSPs to LMP\n",
    "\n",
    "We can also use the solutions from the BDSPs to make a cut to the LMP such that:\n",
    "\n",
    "$\\kappa_s \\leq z^k_s + \\lambda_sH_s\\hat x_s^k$"
   ]
  },
  {
   "cell_type": "code",
   "execution_count": 57,
   "metadata": {},
   "outputs": [
    {
     "name": "stdout",
     "output_type": "stream",
     "text": [
      "Max η\n",
      "Subject to\n",
      " η - κ[1] - κ[2] <= 0\n",
      " κ[1] <= 18\n",
      " κ[2] <= 28\n",
      " κ[1] - 6.000000000002414 λ[1] <= 3.0000000000028884\n",
      " κ[2] + 3.499999999999995 λ[2] <= 3.500000000000036\n",
      " κ[1] - 9 λ[1] <= 9\n",
      " κ[2] + 9 λ[2] <= 9\n",
      " κ[i] for all i in {1,2}\n",
      " λ[i] for all i in {1,2}\n",
      " η\n"
     ]
    }
   ],
   "source": [
    "zk1 = getobjectivevalue(BDSP1)\n",
    "zk2 = getobjectivevalue(BDSP2)\n",
    "\n",
    "xhat = getindex(BDSP1, :xbar)\n",
    "κ = getindex(LMP, :κ)\n",
    "λ = getindex(LMP, :λ)\n",
    "\n",
    "xhat1 = getvalue(xhat[1])\n",
    "xhat2 = getvalue(xhat[2])\n",
    "\n",
    "@constraint(LMP, κ[1] <= zk1 + λ[1]*(xhat1+xhat2))\n",
    "\n",
    "xhat = getindex(BDSP2, :xbar)\n",
    "xhat1 = getvalue(xhat[1])\n",
    "xhat2 = getvalue(xhat[2])\n",
    "\n",
    "@constraint(LMP, κ[2] <= zk2 - λ[2]*(xhat1+xhat2))\n",
    "print(LMP)"
   ]
  },
  {
   "cell_type": "markdown",
   "metadata": {},
   "source": [
    "# LSPs to LMP\n",
    "\n",
    "Now we move on and solve the LSPs. The solutions are then used to make a cut to the LMP such that:\n",
    "\n",
    "$\\kappa_s \\leq \\tau_sc^T\\tilde x_s^k + \\tau_s d^T\\tilde y^k_s + \\lambda_sH_s\\tilde x_s^k$"
   ]
  },
  {
   "cell_type": "code",
   "execution_count": 58,
   "metadata": {},
   "outputs": [
    {
     "name": "stdout",
     "output_type": "stream",
     "text": [
      "Optimize a model with 3 rows, 4 columns and 5 nonzeros\r\n",
      "Model has 2 quadratic objective terms\r\n",
      "Coefficient statistics:\r\n",
      "  Matrix range     [1e+00, 1e+00]\r\n",
      "  Objective range  [5e-01, 3e+00]\r\n",
      "  QObjective range [2e+00, 2e+00]\r\n",
      "  Bounds range     [2e+00, 2e+00]\r\n",
      "  RHS range        [6e+00, 1e+01]\r\n",
      "Presolve removed 2 rows and 1 columns\r\n",
      "Presolve time: 0.00s\r\n",
      "Presolved: 1 rows, 3 columns, 3 nonzeros\r\n",
      "Ordering time: 0.00s\r\n",
      "\r\n",
      "Barrier statistics:\r\n",
      " AA' NZ     : 0.000e+00\r\n",
      " Factor NZ  : 1.000e+00\r\n",
      " Factor Ops : 1.000e+00 (less than 1 second per iteration)\r\n",
      " Threads    : 1\r\n",
      "\r\n",
      "                  Objective                Residual\r\n",
      "Iter       Primal          Dual         Primal    Dual     Compl     Time\r\n",
      "   0   7.14786506e+01 -2.44413188e+01  0.00e+00 0.00e+00  2.17e+01     0s\r\n",
      "   1   2.31507926e+01  8.22251658e+00  0.00e+00 0.00e+00  2.49e+00     0s\r\n",
      "   2   1.86429651e+01  1.79148673e+01  0.00e+00 2.84e-16  1.21e-01     0s\r\n",
      "   3   1.80008814e+01  1.79993978e+01  0.00e+00 0.00e+00  2.47e-04     0s\r\n",
      "   4   1.80000009e+01  1.79999994e+01  0.00e+00 2.34e-16  2.47e-07     0s\r\n",
      "   5   1.80000000e+01  1.80000000e+01  0.00e+00 3.64e-16  1.08e-12     0s\r\n",
      "\r\n",
      "Barrier solved model in 5 iterations and 0.00 seconds\r\n",
      "Optimal objective 1.80000000e+01\r\n",
      "\r\n",
      "Optimize a model with 3 rows, 4 columns and 5 nonzeros\r\n",
      "Model has 2 quadratic objective terms\r\n",
      "Coefficient statistics:\r\n",
      "  Matrix range     [1e+00, 3e+00]\r\n",
      "  Objective range  [5e-01, 4e+00]\r\n",
      "  QObjective range [2e+00, 2e+00]\r\n",
      "  Bounds range     [7e+00, 7e+00]\r\n",
      "  RHS range        [7e+00, 1e+01]\r\n",
      "Presolve removed 2 rows and 2 columns\r\n",
      "Presolve time: 0.00s\r\n",
      "Presolved: 1 rows, 2 columns, 2 nonzeros\r\n",
      "Ordering time: 0.00s\r\n",
      "\r\n",
      "Barrier statistics:\r\n",
      " AA' NZ     : 0.000e+00\r\n",
      " Factor NZ  : 1.000e+00\r\n",
      " Factor Ops : 1.000e+00 (less than 1 second per iteration)\r\n",
      " Threads    : 1\r\n",
      "\r\n",
      "                  Objective                Residual\r\n",
      "Iter       Primal          Dual         Primal    Dual     Compl     Time\r\n",
      "   0   7.54695576e+01 -2.28064194e+01  0.00e+00 0.00e+00  3.41e+01     0s\r\n",
      "   1   3.36842483e+01  1.94046367e+01  0.00e+00 0.00e+00  3.62e+00     0s\r\n",
      "   2   2.80152429e+01  2.77077106e+01  0.00e+00 1.04e-15  7.69e-02     0s\r\n",
      "   3   2.80000155e+01  2.79997080e+01  0.00e+00 2.51e-16  7.69e-05     0s\r\n",
      "   4   2.80000000e+01  2.79999997e+01  0.00e+00 6.87e-16  7.69e-08     0s\r\n",
      "   5   2.80000000e+01  2.80000000e+01  0.00e+00 0.00e+00  7.69e-11     0s\r\n",
      "\r\n",
      "Barrier solved model in 5 iterations and 0.00 seconds\r\n",
      "Optimal objective 2.80000000e+01\r\n",
      "\r\n",
      "0.0\n",
      "2.6035595446891526\n",
      "1.7928809106255779\n",
      "[3.0883, 2.17141e-12]Max η\n",
      "Subject to\n",
      " η - κ[1] - κ[2] <= 0\n",
      " κ[1] <= 18\n",
      " κ[2] <= 28\n",
      " κ[1] - 6.000000000002414 λ[1] <= 3.0000000000028884\n",
      " κ[2] + 3.499999999999995 λ[2] <= 3.500000000000036\n",
      " κ[1] - 9 λ[1] <= 9\n",
      " κ[2] + 9 λ[2] <= 9\n",
      " κ[1] - 3.088298763152688 λ[1] <= 10.279253092119376\n",
      " κ[2] + 2.6035595446891526 λ[2] <= 9.775083187191465\n",
      " κ[i] for all i in {1,2}\n",
      " λ[i] for all i in {1,2}\n",
      " η\n"
     ]
    }
   ],
   "source": [
    "solve(LSP1)\n",
    "x = getindex(LSP1, :xA)\n",
    "y = getindex(LSP1, :y)\n",
    "\n",
    "zk1 = getobjectivevalue(LSP1)\n",
    "xA1 = getvalue(x[1])\n",
    "xA2 = getvalue(x[2])\n",
    "y1 = getvalue(y)\n",
    "\n",
    "\n",
    "solve(LSP2)\n",
    "x = getindex(LSP2, :xB)\n",
    "w = getindex(LSP2, :w)\n",
    "zk2 = getobjectivevalue(LSP2)\n",
    "xB1 = getvalue(x[1])\n",
    "xB2 = getvalue(x[2])\n",
    "w2 = getvalue(w)\n",
    "\n",
    "println(xB1)\n",
    "println(xB2)\n",
    "println(w2)\n",
    "\n",
    "κ = getindex(LMP, :κ)\n",
    "λ = getindex(LMP, :λ)\n",
    "\n",
    "@constraint(LMP, κ[1] <= 0.5*xA1 + xA2 + 3*y1 + λ[1]*(xA1 + xA2))\n",
    "@constraint(LMP, κ[2] <= 0.5*xB1 + xB2 + 4*w2 - λ[2]*(xB1 + xB2))\n",
    "\n",
    "print(getvalue(getindex(LSP1, :xA)))\n",
    "print(LMP)"
   ]
  },
  {
   "cell_type": "markdown",
   "metadata": {},
   "source": [
    "# LMP to LSPs"
   ]
  },
  {
   "cell_type": "code",
   "execution_count": 59,
   "metadata": {},
   "outputs": [
    {
     "name": "stdout",
     "output_type": "stream",
     "text": [
      "Max η\n",
      "Subject to\n",
      " η - κ[1] - κ[2] <= 0\n",
      " κ[1] <= 18\n",
      " κ[2] <= 28\n",
      " κ[1] - 6.000000000002414 λ[1] <= 3.0000000000028884\n",
      " κ[2] + 3.499999999999995 λ[2] <= 3.500000000000036\n",
      " κ[1] - 9 λ[1] <= 9\n",
      " κ[2] + 9 λ[2] <= 9\n",
      " κ[1] - 3.088298763152688 λ[1] <= 10.279253092119376\n",
      " κ[2] + 2.6035595446891526 λ[2] <= 9.775083187191465\n",
      " κ[i] for all i in {1,2}\n",
      " λ[i] for all i in {1,2}\n",
      " η\n",
      "Optimize a model with 9 rows, 5 columns and 17 nonzeros\n",
      "Coefficient statistics:\n",
      "  Matrix range     [1e+00, 9e+00]\n",
      "  Objective range  [1e+00, 1e+00]\n",
      "  Bounds range     [0e+00, 0e+00]\n",
      "  RHS range        [3e+00, 3e+01]\n",
      "Iteration    Objective       Primal Inf.    Dual Inf.      Time\n",
      "       0    4.6000000e+01   0.000000e+00   0.000000e+00      0s\n",
      "\n",
      "Solved in 0 iterations and 0.00 seconds\n",
      "Optimal objective  4.600000000e+01\n"
     ]
    }
   ],
   "source": [
    "print(LMP)\n",
    "solve(LMP)\n",
    "λ = getindex(LMP, :λ)\n",
    "\n",
    "λ1 = getvalue(λ[1])\n",
    "λ2 = getvalue(λ[2])\n",
    "\n",
    "λ = getindex(LSP1, :λ)\n",
    "setupperbound(λ,λ1)\n",
    "setlowerbound(λ,λ1)\n",
    "\n",
    "λ = getindex(LSP2, :λ)\n",
    "setupperbound(λ,λ2)\n",
    "setlowerbound(λ,λ2);"
   ]
  },
  {
   "cell_type": "markdown",
   "metadata": {},
   "source": [
    "# LSPs to BMP"
   ]
  },
  {
   "cell_type": "code",
   "execution_count": 60,
   "metadata": {},
   "outputs": [
    {
     "name": "stdout",
     "output_type": "stream",
     "text": [
      "2.4999999999985127\n",
      "-7.0\n"
     ]
    },
    {
     "data": {
      "text/latex": [
       "$$ θ_{2} + 7 x_{1} + 7 x_{2} \\geq 28.000000000015532 $$"
      ],
      "text/plain": [
       "θ[2] + 7 x[1] + 7 x[2] >= 28.000000000015532"
      ]
     },
     "execution_count": 60,
     "metadata": {},
     "output_type": "execute_result"
    }
   ],
   "source": [
    "θ = getindex(BMP, :θ)\n",
    "x = getindex(BMP, :x)\n",
    "λ1 = getindex(LSP1, :λ)\n",
    "λ2 = getindex(LSP2, :λ)\n",
    "\n",
    "λ1 = getvalue(λ1)\n",
    "λ2 = getvalue(λ2)\n",
    "\n",
    "println(λ1)\n",
    "println(λ2)\n",
    "\n",
    "@constraint(BMP, θ[1]>=zk1-λ1*(x[1]+x[2]))\n",
    "@constraint(BMP, θ[2]>=zk2+λ2*(x[1]+x[2]))"
   ]
  },
  {
   "cell_type": "markdown",
   "metadata": {},
   "source": [
    "# BMP"
   ]
  },
  {
   "cell_type": "code",
   "execution_count": 61,
   "metadata": {},
   "outputs": [
    {
     "name": "stdout",
     "output_type": "stream",
     "text": [
      "Optimize a model with 8 rows, 4 columns and 20 nonzeros\r\n",
      "Coefficient statistics:\r\n",
      "  Matrix range     [5e-01, 1e+01]\r\n",
      "  Objective range  [1e+00, 1e+00]\r\n",
      "  Bounds range     [0e+00, 0e+00]\r\n",
      "  RHS range        [3e+00, 3e+01]\r\n",
      "Iteration    Objective       Primal Inf.    Dual Inf.      Time\r\n",
      "       0    1.1000000e+01   0.000000e+00   0.000000e+00      0s\r\n",
      "\r\n",
      "Solved in 0 iterations and 0.00 seconds\r\n",
      "Optimal objective  1.100000000e+01\r\n",
      "[1.0, 5.0]"
     ]
    }
   ],
   "source": [
    "solve(BMP)\n",
    "print(getvalue(getindex(BMP, :x)))"
   ]
  },
  {
   "cell_type": "markdown",
   "metadata": {
    "collapsed": true
   },
   "source": [
    "Solution after two iterations: [1,5]"
   ]
  },
  {
   "cell_type": "code",
   "execution_count": 62,
   "metadata": {},
   "outputs": [
    {
     "name": "stdout",
     "output_type": "stream",
     "text": [
      "Min θ[1] + θ[2]\n",
      "Subject to\n",
      " θ[1] + 2.5 x[1] + 2 x[2] >= 18\n",
      " θ[2] - 12.5 x[1] + 7 x[2] >= 28\n",
      " θ[1] >= 3.0000000000028884\n",
      " θ[2] >= 3.500000000000036\n",
      " θ[1] - 0.5 x[1] - x[2] >= 0\n",
      " θ[2] - 0.5 x[1] - x[2] >= 0\n",
      " θ[1] + 2.4999999999985127 x[1] + 2.4999999999985127 x[2] >= 17.999999999996504\n",
      " θ[2] + 7 x[1] + 7 x[2] >= 28.000000000015532\n",
      " x[i] >= 0 for all i in {1,2}\n",
      " θ[i] >= 0 for all i in {1,2}\n",
      "Max η\n",
      "Subject to\n",
      " η - κ[1] - κ[2] <= 0\n",
      " κ[1] <= 18\n",
      " κ[2] <= 28\n",
      " κ[1] - 6.000000000002414 λ[1] <= 3.0000000000028884\n",
      " κ[2] + 3.499999999999995 λ[2] <= 3.500000000000036\n",
      " κ[1] - 9 λ[1] <= 9\n",
      " κ[2] + 9 λ[2] <= 9\n",
      " κ[1] - 3.088298763152688 λ[1] <= 10.279253092119376\n",
      " κ[2] + 2.6035595446891526 λ[2] <= 9.775083187191465\n",
      " κ[i] for all i in {1,2}\n",
      " λ[i] for all i in {1,2}\n",
      " η\n"
     ]
    }
   ],
   "source": [
    "print(BMP)\n",
    "print(LMP)"
   ]
  },
  {
   "cell_type": "code",
   "execution_count": null,
   "metadata": {
    "collapsed": true
   },
   "outputs": [],
   "source": []
  }
 ],
 "metadata": {
  "kernelspec": {
   "display_name": "Julia 0.6.2",
   "language": "julia",
   "name": "julia-0.6"
  },
  "language_info": {
   "file_extension": ".jl",
   "mimetype": "application/julia",
   "name": "julia",
   "version": "0.6.2"
  }
 },
 "nbformat": 4,
 "nbformat_minor": 2
}
