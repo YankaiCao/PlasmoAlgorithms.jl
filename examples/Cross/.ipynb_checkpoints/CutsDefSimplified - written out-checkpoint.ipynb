{
 "cells": [
  {
   "cell_type": "code",
   "execution_count": 1,
   "metadata": {
    "collapsed": true
   },
   "outputs": [],
   "source": [
    "using JuMP\n",
    "using Gurobi"
   ]
  },
  {
   "cell_type": "markdown",
   "metadata": {},
   "source": [
    "## Monolith"
   ]
  },
  {
   "cell_type": "code",
   "execution_count": 2,
   "metadata": {},
   "outputs": [
    {
     "name": "stdout",
     "output_type": "stream",
     "text": [
      "Min x + 3 y + 5 z + 0.5 t\n",
      "Subject to\n",
      " x + y ≥ 60\n",
      " y + z ≥ 80\n",
      " x + t ≥ 43\n",
      " x ≥ 0\n",
      " y ≥ 0\n",
      " z ≥ 0\n",
      " t ≥ 0\n",
      "Optimize a model with 3 rows, 4 columns and 6 nonzeros\n",
      "Coefficient statistics:\n",
      "  Matrix range     [1e+00, 1e+00]\n",
      "  Objective range  [5e-01, 5e+00]\n",
      "  Bounds range     [0e+00, 0e+00]\n",
      "  RHS range        [4e+01, 8e+01]\n",
      "Presolve removed 3 rows and 4 columns\n",
      "Presolve time: 0.00s\n",
      "Presolve: All rows and columns removed\n",
      "Iteration    Objective       Primal Inf.    Dual Inf.      Time\n",
      "       0    2.6150000e+02   0.000000e+00   0.000000e+00      0s\n",
      "\n",
      "Solved in 0 iterations and 0.00 seconds\n",
      "Optimal objective  2.615000000e+02\n",
      "x=0.0\n",
      "y=80.0\n",
      "z=0.0\n",
      "t=43.0\n",
      "obj = 261.5\n"
     ]
    }
   ],
   "source": [
    "using JuMP\n",
    "using Gurobi\n",
    "\n",
    "m = Model(solver = GurobiSolver())\n",
    "@variable(m,x>=0)\n",
    "@variable(m,y>=0)\n",
    "@variable(m,z>=0)\n",
    "@variable(m,t>=0)\n",
    "\n",
    "@constraint(m, x+y>=60)\n",
    "@constraint(m, y+z>=80)\n",
    "@constraint(m, x+t>=43)\n",
    "\n",
    "@objective(m,Min,x+ 3y + 5z + 0.5t)\n",
    "print(m)\n",
    "solve(m)\n",
    "println(\"x=\", getvalue(x))\n",
    "println(\"y=\", getvalue(y))\n",
    "println(\"z=\", getvalue(z))\n",
    "println(\"t=\", getvalue(t))\n",
    "println(\"obj = \", getobjectivevalue(m))"
   ]
  },
  {
   "cell_type": "code",
   "execution_count": 3,
   "metadata": {
    "collapsed": true
   },
   "outputs": [],
   "source": [
    "#A = JuMP.prepConstrMatrix(m)\n",
    "#A = full(A)\n",
    "#spy(A)"
   ]
  },
  {
   "cell_type": "markdown",
   "metadata": {},
   "source": [
    "## Benders"
   ]
  },
  {
   "cell_type": "code",
   "execution_count": 4,
   "metadata": {},
   "outputs": [
    {
     "name": "stdout",
     "output_type": "stream",
     "text": [
      "Min θ[1]\n",
      "Subject to\n",
      " θ[1] - x - θ[2] - θ[3] ≥ 0\n",
      " θ[2] ≥ 0\n",
      " θ[3] ≥ 0\n",
      " -θ[1] ≤ 0\n",
      " θ[i] ∀ i ∈ {1,2,3}\n",
      " 0 ≤ x ≤ 80\n",
      " 0 ≤ xᵏ ≤ 80\n"
     ]
    }
   ],
   "source": [
    "i = [:i1, :i2, :i3, :i4]\n",
    "\n",
    "λᵏ = Dict(:i2 => 0, :i3 => 0, :i4 => 0)\n",
    "μᵏ = Dict(:i1 => 0, :i2 => 0, :i3 => 0)\n",
    "θᵏ = Dict(:i1 => 0, :i2 => 0, :i3 => 0, :i4 => 0)\n",
    "zbᵏ = Dict(:i1 => 0, :i2 => 0, :i3 => 0, :i4 => 0)\n",
    "zlᵏ = Dict(:i1 => 0, :i2 => 0, :i3 => 0, :i4 => 0)\n",
    "\n",
    "duals = []\n",
    "\n",
    "mp = Model(solver = GurobiSolver())\n",
    "@variable(mp,80 >= x >=0)\n",
    "@variable(mp,80 >= xᵏ>=0)\n",
    "@variable(mp,θ[1:3])\n",
    "@objective(mp,Min, θ[1])\n",
    "@constraint(mp, θ[1] >= x + θ[2] + θ[3])\n",
    "\n",
    "function refreshmp()\n",
    "    x = getindex(mp,:x)\n",
    "    θ = getindex(mp,:θ)\n",
    "    xᵏ = getindex(mp, :xᵏ)\n",
    "    @constraint(mp, θ[2] >= θᵏ[:i2] + λᵏ[:i2]*(xᵏ - x))\n",
    "    @constraint(mp, θ[3] >= θᵏ[:i3] + λᵏ[:i3]*(xᵏ - x))\n",
    "    @constraint(mp, zlᵏ[:i1] <= θ[1] + μᵏ[:i1]*x + μᵏ[:i3]*x)\n",
    "    print(mp)\n",
    "end\n",
    "refreshmp()"
   ]
  },
  {
   "cell_type": "code",
   "execution_count": 5,
   "metadata": {},
   "outputs": [
    {
     "ename": "LoadError",
     "evalue": "\u001b[91mUndefVarError: duals not defined\u001b[39m",
     "output_type": "error",
     "traceback": [
      "\u001b[91mUndefVarError: duals not defined\u001b[39m",
      "",
      "Stacktrace:",
      " [1] \u001b[1minclude_string\u001b[22m\u001b[22m\u001b[1m(\u001b[22m\u001b[22m::String, ::String\u001b[1m)\u001b[22m\u001b[22m at \u001b[1m./loading.jl:515\u001b[22m\u001b[22m"
     ]
    }
   ],
   "source": [
    "sp1 = Model(solver = GurobiSolver())\n",
    "@variable(sp1,80 >= x>=0)\n",
    "@variable(sp1,80 >= y>=0)\n",
    "@variable(sp1,80 >= yᵏ>=0)\n",
    "@variable(sp1,θ[2:4])\n",
    "@variable(sp1,80 >= xᵏ>=0)\n",
    "@constraint(sp1, x+y>=60)\n",
    "dual2 = @constraint(sp1, xᵏ - x == 0)\n",
    "push!(duals, dual2)\n",
    "@objective(sp1, Min, θ[2])\n",
    "@constraint(sp1, θ[2] >= 3y + θ[4])\n",
    "\n",
    "function refreshsp1()\n",
    "    x = getindex(sp1,:x)\n",
    "    y = getindex(sp1,:y)\n",
    "    θ = getindex(sp1,:θ)\n",
    "    yᵏ = getindex(sp1, :yᵏ)\n",
    "    @constraint(sp1, θ[4] >= θᵏ[:i4] + λᵏ[:i4]*(yᵏ - y))\n",
    "    @constraint(sp1, zlᵏ[:i2] <= θ[2] - μᵏ[:i1]*x + μᵏ[:i2]*y)\n",
    "    \n",
    "    print(sp1)\n",
    "end\n",
    "refreshsp1()"
   ]
  },
  {
   "cell_type": "code",
   "execution_count": 6,
   "metadata": {},
   "outputs": [
    {
     "ename": "LoadError",
     "evalue": "\u001b[91mUndefVarError: duals not defined\u001b[39m",
     "output_type": "error",
     "traceback": [
      "\u001b[91mUndefVarError: duals not defined\u001b[39m",
      "",
      "Stacktrace:",
      " [1] \u001b[1minclude_string\u001b[22m\u001b[22m\u001b[1m(\u001b[22m\u001b[22m::String, ::String\u001b[1m)\u001b[22m\u001b[22m at \u001b[1m./loading.jl:515\u001b[22m\u001b[22m"
     ]
    }
   ],
   "source": [
    " sp3 = Model(solver = GurobiSolver())\n",
    "@variable(sp3,80 >= x>=0)\n",
    "@variable(sp3,80 >= xᵏ>=0)\n",
    "@variable(sp3,80 >= t>=0)\n",
    "@variable(sp3,θ[3:3])\n",
    "@constraint(sp3,x+t>=43)\n",
    "dual3 = @constraint(sp3, xᵏ - x == 0)\n",
    "push!(duals, dual3)\n",
    "@constraint(sp3, θ[3] >= 0.5t)\n",
    "@objective(sp3,Min,θ[3])\n",
    "function refreshsp3()\n",
    "    x = getindex(sp3,:x)\n",
    "    θ = getindex(sp3,:θ)\n",
    "    @constraint(sp3, zlᵏ[:i3] <= θ[3] - μᵏ[:i3]*x)\n",
    "    print(sp3)\n",
    "end\n",
    "refreshsp3()"
   ]
  },
  {
   "cell_type": "code",
   "execution_count": 7,
   "metadata": {},
   "outputs": [
    {
     "name": "stdout",
     "output_type": "stream",
     "text": [
      "Min θ[4]\n",
      "Subject to\n",
      " y + z ≥ 80\n",
      " yᵏ - y = 0\n",
      " θ[4] - 5 z ≥ 0\n",
      " -θ[4] ≤ 0\n",
      " θ[i] ∀ i ∈ {4}\n",
      " 0 ≤ y ≤ 80\n",
      " 0 ≤ z ≤ 80\n",
      " 0 ≤ yᵏ ≤ 80\n"
     ]
    }
   ],
   "source": [
    "sp2 = Model(solver=GurobiSolver())\n",
    "@variable(sp2,80 >= y>=0)\n",
    "@variable(sp2,80 >= z>=0)\n",
    "@variable(sp2,80 >= yᵏ>=0)\n",
    "@variable(sp2,θ[4:4])\n",
    "@constraint(sp2, y+z>=80)\n",
    "dual4 = @constraint(sp2, yᵏ - y == 0)\n",
    "@constraint(sp2, θ[4] >= 5z)\n",
    "@objective(sp2, Min, θ[4])\n",
    "function refreshsp2()\n",
    "    y = getindex(sp2,:y)\n",
    "    θ = getindex(sp2,:θ)\n",
    "    @constraint(sp2, zlᵏ[:i4] <= θ[4] - μᵏ[:i2]*y)\n",
    "    print(sp2)\n",
    "end\n",
    "refreshsp2()"
   ]
  },
  {
   "cell_type": "markdown",
   "metadata": {},
   "source": [
    "## Lagrange\n",
    "\n",
    "### Master\n",
    "$ \\max \\> \\eta \\\\\n",
    "s.t. \\> \\> \\eta \\leq \\sum\\kappa_s\\\\\n",
    "$\n"
   ]
  },
  {
   "cell_type": "code",
   "execution_count": 8,
   "metadata": {},
   "outputs": [
    {
     "name": "stdout",
     "output_type": "stream",
     "text": [
      "Max η\n",
      "Subject to\n",
      " η - κ[1] - κ[2] - κ[3] - κ[4] ≤ 0\n",
      " κ[1] ≤ 0\n",
      " κ[2] ≤ 0\n",
      " κ[3] ≤ 0\n",
      " κ[4] ≤ 0\n",
      " κ[1] ≤ 0\n",
      " κ[2] ≤ 0\n",
      " κ[3] ≤ 0\n",
      " κ[4] ≤ 0\n",
      " κ[i] ∀ i ∈ {1,2,3,4}\n",
      " μ[i] ∀ i ∈ {1,2,3}\n",
      " η\n"
     ]
    }
   ],
   "source": [
    "xlᵏ = 0\n",
    "ylᵏ = 0\n",
    "xbᵏ = 0\n",
    "ybᵏ = 0\n",
    "\n",
    "LMP = Model(solver = GurobiSolver())\n",
    "@variable(LMP, κ[1:4])\n",
    "@variable(LMP, η)\n",
    "@variable(LMP, μ[1:3])\n",
    "@constraint(LMP, η <= sum(κ[i] for i in 1:4))\n",
    "@objective(LMP, Max, η)\n",
    "\n",
    "function refreshlmp()\n",
    "\n",
    "    @constraint(LMP, κ[1] <= zbᵏ[:i1] + μ[1]*xbᵏ + μ[3]*xbᵏ)\n",
    "    @constraint(LMP, κ[2] <= zbᵏ[:i2] - μ[1]*xbᵏ + μ[2]*ybᵏ )\n",
    "    @constraint(LMP, κ[3] <= zbᵏ[:i3] - μ[3]*xbᵏ )\n",
    "    @constraint(LMP, κ[4] <= zbᵏ[:i4] - μ[2]*ybᵏ)\n",
    "    @constraint(LMP, κ[1] <= zlᵏ[:i1] + μ[1]*xlᵏ + μ[3]*xlᵏ)\n",
    "    @constraint(LMP, κ[2] <= zlᵏ[:i2] - μ[1]*xlᵏ + μ[2]*ylᵏ )\n",
    "    @constraint(LMP, κ[3] <= zlᵏ[:i3] - μ[3]*xlᵏ )\n",
    "    @constraint(LMP, κ[4] <= zlᵏ[:i4] - μ[2]*ylᵏ)\n",
    "    \n",
    "\n",
    "    print(LMP)\n",
    "end\n",
    "refreshlmp()"
   ]
  },
  {
   "cell_type": "code",
   "execution_count": 9,
   "metadata": {},
   "outputs": [
    {
     "name": "stdout",
     "output_type": "stream",
     "text": [
      "Min x\n",
      "Subject to\n",
      " 0 ≤ x ≤ 80\n"
     ]
    }
   ],
   "source": [
    "lsp1 = Model(solver=GurobiSolver())\n",
    "@variable(lsp1,80 >= x>=0)\n",
    "function refreshlsp1()\n",
    "    x = getindex(lsp1,:x)\n",
    "    @objective(lsp1,Min,x+ μᵏ[:i1]*x  + μᵏ[:i3]*x )\n",
    "    print(lsp1)\n",
    "end\n",
    "refreshlsp1()"
   ]
  },
  {
   "cell_type": "code",
   "execution_count": 10,
   "metadata": {},
   "outputs": [
    {
     "name": "stdout",
     "output_type": "stream",
     "text": [
      "Min 3 y\n",
      "Subject to\n",
      " x + y ≥ 60\n",
      " 0 ≤ x ≤ 80\n",
      " 0 ≤ y ≤ 80\n"
     ]
    }
   ],
   "source": [
    "lsp2 = Model(solver=GurobiSolver())\n",
    "@variable(lsp2,80 >= x>=0)\n",
    "@variable(lsp2,80 >= y>=0)\n",
    "@constraint(lsp2, x+y>=60)\n",
    "function refreshlsp2()\n",
    "    x = getindex(lsp2,:x)\n",
    "    y = getindex(lsp2,:y)\n",
    "    @objective(lsp2, Min, 3y - μᵏ[:i1]*x + μᵏ[:i2]*y)\n",
    "    print(lsp2)\n",
    "end\n",
    "refreshlsp2()"
   ]
  },
  {
   "cell_type": "code",
   "execution_count": 11,
   "metadata": {},
   "outputs": [
    {
     "name": "stdout",
     "output_type": "stream",
     "text": [
      "Min 0.5 t\n",
      "Subject to\n",
      " x + t ≥ 43\n",
      " 0 ≤ x ≤ 80\n",
      " 0 ≤ t ≤ 80\n"
     ]
    }
   ],
   "source": [
    "lsp3 = Model(solver=GurobiSolver())\n",
    "@variable(lsp3,80 >= x>=0)\n",
    "@variable(lsp3,80 >= t>=0)\n",
    "@constraint(lsp3,x+t>=43)\n",
    "function refreshlsp3()\n",
    "    x = getindex(lsp3,:x)\n",
    "    t = getindex(lsp3,:t)\n",
    "    @objective(lsp3,Min,.5t- μᵏ[:i3]*x)\n",
    "    print(lsp3)\n",
    "end\n",
    "refreshlsp3()"
   ]
  },
  {
   "cell_type": "code",
   "execution_count": null,
   "metadata": {
    "collapsed": true
   },
   "outputs": [],
   "source": []
  },
  {
   "cell_type": "code",
   "execution_count": 12,
   "metadata": {},
   "outputs": [
    {
     "name": "stdout",
     "output_type": "stream",
     "text": [
      "Min 5 z\n",
      "Subject to\n",
      " y + z ≥ 80\n",
      " 0 ≤ y ≤ 80\n",
      " 0 ≤ z ≤ 80\n"
     ]
    }
   ],
   "source": [
    "lsp4 = Model(solver=GurobiSolver())\n",
    "@variable(lsp4,80 >= y>=0)\n",
    "@variable(lsp4,80 >= z>=0)\n",
    "@constraint(lsp4, y+z>=80)\n",
    "function refreshlsp4()\n",
    "    y = getindex(lsp4,:y)\n",
    "    z = getindex(lsp4,:z)\n",
    "    @objective(lsp4, Min, 5z - μᵏ[:i2]*y)\n",
    "    print(lsp4)\n",
    "end\n",
    "refreshlsp4()"
   ]
  },
  {
   "cell_type": "code",
   "execution_count": 13,
   "metadata": {},
   "outputs": [
    {
     "data": {
      "text/plain": [
       "refreshall (generic function with 1 method)"
      ]
     },
     "execution_count": 13,
     "metadata": {},
     "output_type": "execute_result"
    }
   ],
   "source": [
    "function refreshall()\n",
    "    refreshlmp()\n",
    "    refreshlsp1()\n",
    "    refreshlsp2()\n",
    "    refreshlsp3()\n",
    "    refreshlsp4()\n",
    "    refreshmp()\n",
    "    refreshsp1()\n",
    "    refreshsp2()\n",
    "    refreshsp3()\n",
    "end"
   ]
  },
  {
   "cell_type": "markdown",
   "metadata": {},
   "source": [
    "Moving through algorithm:"
   ]
  },
  {
   "cell_type": "code",
   "execution_count": 14,
   "metadata": {
    "scrolled": true
   },
   "outputs": [
    {
     "name": "stdout",
     "output_type": "stream",
     "text": [
      "h1\n",
      "Optimize a model with 4 rows, 5 columns and 7 nonzeros\n",
      "Coefficient statistics:\n",
      "  Matrix range     [1e+00, 1e+00]\n",
      "  Objective range  [1e+00, 1e+00]\n",
      "  Bounds range     [8e+01, 8e+01]\n",
      "  RHS range        [0e+00, 0e+00]\n",
      "Presolve removed 4 rows and 5 columns\n",
      "Presolve time: 0.00s\n",
      "Presolve: All rows and columns removed\n",
      "Iteration    Objective       Primal Inf.    Dual Inf.      Time\n",
      "       0    0.0000000e+00   0.000000e+00   0.000000e+00      0s\n",
      "\n",
      "Solved in 0 iterations and 0.00 seconds\n",
      "Optimal objective  0.000000000e+00\n",
      "Optimize a model with 2 rows, 7 columns and 4 nonzeros\n",
      "Coefficient statistics:\n",
      "  Matrix range     [1e+00, 1e+00]\n",
      "  Objective range  [0e+00, 0e+00]\n",
      "  Bounds range     [8e+01, 8e+01]\n",
      "  RHS range        [6e+01, 6e+01]\n",
      "Presolve removed 2 rows and 7 columns\n",
      "Presolve time: 0.00s\n",
      "Presolve: All rows and columns removed\n",
      "Iteration    Objective       Primal Inf.    Dual Inf.      Time\n",
      "       0    0.0000000e+00   0.000000e+00   4.000000e-06      0s\n",
      "\n",
      "Solved in 0 iterations and 0.00 seconds\n",
      "Optimal objective  0.000000000e+00\n",
      "Optimize a model with 2 rows, 4 columns and 4 nonzeros\n",
      "Coefficient statistics:\n",
      "  Matrix range     [1e+00, 1e+00]\n",
      "  Objective range  [0e+00, 0e+00]\n",
      "  Bounds range     [8e+01, 8e+01]\n",
      "  RHS range        [4e+01, 4e+01]\n",
      "Presolve removed 2 rows and 4 columns\n",
      "Presolve time: 0.00s\n",
      "Presolve: All rows and columns removed\n",
      "Iteration    Objective       Primal Inf.    Dual Inf.      Time\n",
      "       0    0.0000000e+00   0.000000e+00   2.000000e-06      0s\n",
      "\n",
      "Solved in 0 iterations and 0.00 seconds\n",
      "Optimal objective  0.000000000e+00\n",
      "Optimize a model with 4 rows, 4 columns and 7 nonzeros\n",
      "Coefficient statistics:\n",
      "  Matrix range     [1e+00, 5e+00]\n",
      "  Objective range  [1e+00, 1e+00]\n",
      "  Bounds range     [8e+01, 8e+01]\n",
      "  RHS range        [8e+01, 8e+01]\n",
      "Presolve removed 4 rows and 4 columns\n",
      "Presolve time: 0.00s\n",
      "Presolve: All rows and columns removed\n",
      "Iteration    Objective       Primal Inf.    Dual Inf.      Time\n",
      "       0    0.0000000e+00   0.000000e+00   0.000000e+00      0s\n",
      "\n",
      "Solved in 0 iterations and 0.00 seconds\n",
      "Optimal objective  0.000000000e+00\n",
      "h2\n",
      "h3\n"
     ]
    },
    {
     "ename": "LoadError",
     "evalue": "\u001b[91mUndefVarError: refreshsp1 not defined\u001b[39m",
     "output_type": "error",
     "traceback": [
      "\u001b[91mUndefVarError: refreshsp1 not defined\u001b[39m",
      "",
      "Stacktrace:",
      " [1] \u001b[1minclude_string\u001b[22m\u001b[22m\u001b[1m(\u001b[22m\u001b[22m::String, ::String\u001b[1m)\u001b[22m\u001b[22m at \u001b[1m./loading.jl:515\u001b[22m\u001b[22m"
     ]
    }
   ],
   "source": [
    "#Initialize\n",
    "\n",
    "\n",
    "#Benders Forward Step\n",
    "println(\"h1\")\n",
    "solve(mp)\n",
    "xbᵏ = getvalue(getindex(mp,:x))\n",
    "JuMP.fix(getindex(sp1,:xᵏ),float(xbᵏ))\n",
    "JuMP.fix(getindex(sp3,:xᵏ),float(xbᵏ))\n",
    "solve(sp1)\n",
    "solve(sp3)\n",
    "ybᵏ = getvalue(getindex(sp1,:y))\n",
    "JuMP.fix(getindex(sp2,:yᵏ),float(ybᵏ))\n",
    "solve(sp2)\n",
    "println(\"h2\")\n",
    "\n",
    "θᵏ = Dict(:i1 => getobjectivevalue(mp), :i2 => getobjectivevalue(sp1), :i3 => getobjectivevalue(sp3), :i4 => getobjectivevalue(sp2))\n",
    "zbᵏ = Dict(:i1 => getobjectivevalue(mp), :i2 => getobjectivevalue(sp1), :i3 => getobjectivevalue(sp3), :i4 => getobjectivevalue(sp2))\n",
    "\n",
    "\n",
    "\n",
    "#Benders Backward Step\n",
    "λᵏ[:i4] = getdual(dual4)\n",
    "println(\"h3\")\n",
    "\n",
    "refreshsp1()\n",
    "println(\"h6\")\n",
    "solve(sp1)\n",
    "λᵏ[:i2] = getdual(dual2)\n",
    "#λᵏ[:i3] = getdual(dual3)\n",
    "println(\"h5\")\n",
    "\n",
    "refreshall()\n",
    "\n",
    "println(\"h7\")\n",
    "\n",
    "#Lagrange Forward Step\n",
    "xbᵏ = getvalue(getindex(mp,:x))\n",
    "ybᵏ = getvalue(getindex(sp1,:y))\n",
    "solve(LMP)\n",
    "μ = getindex(LMP, :μ)\n",
    "μᵏ = Dict(:i1 => getvalue(μ[1]), :i2 => getvalue(μ[2]), :i3 => getvalue(μ[3]))\n",
    "\n",
    "println(\"h8\")\n",
    "\n",
    "refreshall()\n",
    "\n",
    "println(\"h9\")\n",
    "\n",
    "solve(lsp1)\n",
    "println(\"h10\")\n",
    "solve(lsp2)\n",
    "println(\"h11\")\n",
    "solve(lsp3)\n",
    "println(\"h12\")\n",
    "print(lsp4)\n",
    "solve(lsp4)\n",
    "println(\"h13\")\n",
    "\n",
    "#Lagrange Backward Step\n",
    "zlᵏ = Dict(:i1 => getobjectivevalue(lsp1), :i2 => getobjectivevalue(lsp2), :i3 => getobjectivevalue(lsp3), :i4 => getobjectivevalue(lsp4))\n",
    "println(\"h14\")\n",
    "refreshall()\n",
    "println(\"h15\")"
   ]
  },
  {
   "cell_type": "code",
   "execution_count": null,
   "metadata": {
    "collapsed": true
   },
   "outputs": [],
   "source": []
  },
  {
   "cell_type": "code",
   "execution_count": null,
   "metadata": {
    "collapsed": true
   },
   "outputs": [],
   "source": []
  }
 ],
 "metadata": {
  "kernelspec": {
   "display_name": "Julia 0.6.0",
   "language": "julia",
   "name": "julia-0.6"
  },
  "language_info": {
   "file_extension": ".jl",
   "mimetype": "application/julia",
   "name": "julia",
   "version": "0.6.0"
  }
 },
 "nbformat": 4,
 "nbformat_minor": 2
}
