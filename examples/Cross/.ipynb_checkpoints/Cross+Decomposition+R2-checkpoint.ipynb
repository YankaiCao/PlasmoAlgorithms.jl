{
 "cells": [
  {
   "cell_type": "markdown",
   "metadata": {},
   "source": [
    "# Cross Decomposition Example\n",
    "\n",
    "Original Model: \n",
    "\n",
    "$ \\min \\> x_1 + 2x_2 +3y + 4w\\\\\n",
    "s.t. \\> \\>\n",
    "x_1 + x_2 + y \\geq 6\\\\\n",
    "-3x_1 + 2x_2 + w \\geq 7\\\\\n",
    "x,y,w \\geq 0\\\\\n",
    "$ \n",
    "\n",
    "Reformulated Model:\n",
    "\n",
    "$\\min \\> 0.5x_{A1} + x_{A2}+ 0.5x_{B1} + x_{B2} + 3y + 4w\\\\\n",
    "s.t. \\> \\>\n",
    "x_{A1}+x_{A2}+ y \\geq 6\\\\\n",
    "0.5x_{B1}+2x_{B2}+w\\geq 7\\\\\n",
    "x_{A1}-x_{B1} = 0\\\\\n",
    "x_{A2}-x_{B2} = 0\\\\\n",
    "$\n",
    "\n",
    "Lagrange Master Problem:\n",
    "\n",
    "$ \\max \\> \\eta \\\\\n",
    "s.t. \\> \\> \\eta \\leq \\sum\\kappa_s\\\\\n",
    "\\kappa \\geq 0\\\\\n",
    "$\n",
    "\n",
    "Lagrange SP 1:\n",
    "\n",
    "$ \\min \\> 0.5x_{A1} + x_{A2} + 3y +\\lambda_1^k x_{A1} + \\lambda_2^k x_{A2}\\\\\n",
    "   s.t. \\> \\> - y \\leq -6 + x_{A1} + x_{A2}\\\\ \\\\\n",
    "   x_A,y \\geq 0 \\\\\n",
    "$\n",
    "\n",
    "Lagrange SP 2:\n",
    "\n",
    "$ \\min \\> 0.5x_{B1} + x_{B2} + 4w - \\lambda_1^k x_{B1} -\\lambda_2^k x_{B2}\\\\\n",
    "   s.t. \\> \\> - w \\leq -7 - 3 x_1 + 2 x_2\\\\\n",
    "   x_B,w \\geq 0 \\\\\n",
    "$"
   ]
  },
  {
   "cell_type": "markdown",
   "metadata": {},
   "source": [
    "Bender's Master Problem:\n",
    "\n",
    "$\\min \\> \\theta_1 + \\theta_2 \\\\ \n",
    "s.t. \\> \\> x, \\theta \\geq 0\\\\\n",
    "$\n",
    "\n",
    "\n",
    "Bender's SP 1:\n",
    "\n",
    "$ \\min \\> 0.5\\bar x_1 + \\bar x_2 + 3y \\\\\n",
    "s.t. \\> \\>  - y \\leq -6 + \\bar x_1 + \\bar x_2\\\\\n",
    "y \\geq 0 \\\\\n",
    "$\n",
    "\n",
    "\n",
    "Bender's SP 2:\n",
    "\n",
    "$ \\min \\> 0.5\\bar x_1 + \\bar x_2 + 4w \\\\\n",
    "s.t. \\> \\> - w \\leq -7 -3\\bar x_1 + 2\\bar x_2 \\\\\n",
    "w \\geq 0 \\\\\n",
    "$\n",
    "\n",
    "Bender's DSP 1:\n",
    "\n",
    "$ \\max \\> 0.5\\bar x_1 + \\bar x_2 + \\mu_1(6 - \\bar x_1 - \\bar x_2)\\\\\n",
    "s.t. \\> \\> \\mu_1 \\leq 3\\\\\n",
    "\\mu \\geq 0 \\\\\n",
    "$\n",
    "\n",
    "\n",
    "Bender's DSP 2:\n",
    "\n",
    "$ \\max \\> 0.5\\bar x_1 + \\bar x_2 + \\mu_2(7 + 3\\bar x_1 - 2\\bar x_2)\\\\\n",
    "s.t. \\> \\> \\mu_2 \\leq 4\\\\\n",
    "\\mu \\geq 0 \\\\\n",
    "$"
   ]
  },
  {
   "cell_type": "markdown",
   "metadata": {},
   "source": [
    "Write BMP and BDSPs in Julia:"
   ]
  },
  {
   "cell_type": "code",
   "execution_count": 200,
   "metadata": {},
   "outputs": [],
   "source": [
    "using JuMP\n",
    "using Gurobi\n",
    "BMP = Model(solver = GurobiSolver())\n",
    "BDSP1 = Model(solver = GurobiSolver())\n",
    "BDSP2 = Model(solver = GurobiSolver())\n",
    "\n",
    "@variable(BMP, x[1:2] >= 0)\n",
    "@variable(BMP, θ[1:2] >= 0)\n",
    "\n",
    "@objective(BMP, Min, θ[1]+θ[2])\n",
    "\n",
    "@variable(BDSP1, xbar[1:2])\n",
    "@variable(BDSP1, μ>=0)\n",
    "\n",
    "@constraint(BDSP1, μ<=3)\n",
    "@objective(BDSP1, Max, 0.5*xbar[1] + xbar[2] + μ*(6-xbar[1]-xbar[2]))\n",
    "\n",
    "@variable(BDSP2, xbar[1:2])\n",
    "@variable(BDSP2, μ>=0)\n",
    "\n",
    "@constraint(BDSP2, μ<=4)\n",
    "@objective(BDSP2, Max, 0.5*xbar[1] + xbar[2] + μ*(7+3*xbar[1]-2*xbar[2]));"
   ]
  },
  {
   "cell_type": "markdown",
   "metadata": {},
   "source": [
    "Write LMP and LSPs in Julia:"
   ]
  },
  {
   "cell_type": "code",
   "execution_count": 201,
   "metadata": {},
   "outputs": [],
   "source": [
    "LMP = Model(solver = GurobiSolver())\n",
    "LSP1 = Model(solver = GurobiSolver())\n",
    "LSP2 = Model(solver = GurobiSolver())\n",
    "\n",
    "@variable(LMP, κ[1:2])\n",
    "@variable(LMP, η)\n",
    "@variable(LMP, λ[1:2]>=0)\n",
    "\n",
    "@constraint(LMP, η <= κ[1] + κ[2])\n",
    "\n",
    "@objective(LMP, Max, η)\n",
    "\n",
    "@variable(LSP1, xA[1:2]>=0)\n",
    "@variable(LSP1, y>= 0)\n",
    "@variable(LSP1, λ[1:2])\n",
    "\n",
    "@constraint(LSP1, xA[1]+xA[2]+y>=6)\n",
    "@objective(LSP1, Min, .5*xA[1]+xA[2]+3y+λ[1]*xA[1]+λ[2]*xA[2])\n",
    "\n",
    "@variable(LSP2, xB[1:2]>=0)\n",
    "@variable(LSP2, w>= 0)\n",
    "@variable(LSP2, λ[1:2])\n",
    "\n",
    "@constraint(LSP2, -3xB[1]-2*xB[2]+w>=7)\n",
    "@objective(LSP2, Min, .5*xB[1] + xB[2] + 4w - λ[1]*xB[1] - λ[2]*xB[2]);"
   ]
  },
  {
   "cell_type": "markdown",
   "metadata": {},
   "source": [
    "Initialize $(\\bar x_1, \\bar x_2) = (0,0)$:"
   ]
  },
  {
   "cell_type": "code",
   "execution_count": 202,
   "metadata": {},
   "outputs": [],
   "source": [
    "x = getindex(BDSP1, :xbar)\n",
    "setlowerbound(x[1],0)\n",
    "setupperbound(x[1],0)\n",
    "\n",
    "setlowerbound(x[2],0)\n",
    "setupperbound(x[2],0)\n",
    "\n",
    "x = getindex(BDSP2, :xbar)\n",
    "setlowerbound(x[1],0)\n",
    "setupperbound(x[1],0)\n",
    "\n",
    "setlowerbound(x[2],0)\n",
    "setupperbound(x[2],0);"
   ]
  },
  {
   "cell_type": "markdown",
   "metadata": {},
   "source": [
    "Initialize $(\\lambda_1, \\lambda_2) = (0,0)$:"
   ]
  },
  {
   "cell_type": "code",
   "execution_count": 203,
   "metadata": {},
   "outputs": [
    {
     "data": {
      "text/plain": [
       "0"
      ]
     },
     "execution_count": 203,
     "metadata": {},
     "output_type": "execute_result"
    }
   ],
   "source": [
    "λ = getindex(LSP1, :λ)\n",
    "setupperbound(λ[1],0)\n",
    "setlowerbound(λ[1],0)\n",
    "setupperbound(λ[2],0)\n",
    "setlowerbound(λ[2],0)\n",
    "\n",
    "λ = getindex(LSP2, :λ)\n",
    "setupperbound(λ[1],0)\n",
    "setlowerbound(λ[1],0)\n",
    "setupperbound(λ[2],0)\n",
    "setlowerbound(λ[2],0)"
   ]
  },
  {
   "cell_type": "markdown",
   "metadata": {},
   "source": [
    "# BDSPs to BMP\n",
    "\n",
    "First we solve the BDSPs and make a cut to the BMP such that:\n",
    "\n",
    "$\\theta_s \\geq \\tau_sc^Tx + (A_1x-b_1)^Tu_s^k$"
   ]
  },
  {
   "cell_type": "code",
   "execution_count": 205,
   "metadata": {},
   "outputs": [
    {
     "name": "stdout",
     "output_type": "stream",
     "text": [
      "Optimize a model with 1 rows, 3 columns and 1 nonzeros\n",
      "Model has 2 quadratic objective terms\n",
      "Coefficient statistics:\n",
      "  Matrix range     [1e+00, 1e+00]\n",
      "  Objective range  [5e-01, 6e+00]\n",
      "  QObjective range [2e+00, 2e+00]\n",
      "  Bounds range     [9e+00, 9e+00]\n",
      "  RHS range        [3e+00, 3e+00]\n",
      "Presolve removed 1 rows and 3 columns\n",
      "Presolve time: 0.01s\n",
      "Presolve: All rows and columns removed\n",
      "\n",
      "Barrier solved model in 0 iterations and 0.01 seconds\n",
      "Optimal objective 9.00000000e+00\n",
      "Optimize a model with 1 rows, 3 columns and 1 nonzeros\n",
      "Model has 2 quadratic objective terms\n",
      "Coefficient statistics:\n",
      "  Matrix range     [1e+00, 1e+00]\n",
      "  Objective range  [5e-01, 7e+00]\n",
      "  QObjective range [4e+00, 6e+00]\n",
      "  Bounds range     [9e+00, 9e+00]\n",
      "  RHS range        [4e+00, 4e+00]\n",
      "Presolve removed 1 rows and 3 columns\n",
      "Presolve time: 0.00s\n",
      "Presolve: All rows and columns removed\n",
      "\n",
      "Barrier solved model in 0 iterations and 0.00 seconds\n",
      "Optimal objective 9.00000000e+00\n",
      "Optimize a model with 4 rows, 4 columns and 12 nonzeros\n",
      "Coefficient statistics:\n",
      "  Matrix range     [5e-01, 1e+01]\n",
      "  Objective range  [1e+00, 1e+00]\n",
      "  Bounds range     [0e+00, 0e+00]\n",
      "  RHS range        [2e+01, 3e+01]\n",
      "Iteration    Objective       Primal Inf.    Dual Inf.      Time\n",
      "       0    0.0000000e+00   1.800000e+01   0.000000e+00      0s\n",
      "       3    1.1000000e+01   0.000000e+00   0.000000e+00      0s\n",
      "\n",
      "Solved in 3 iterations and 0.01 seconds\n",
      "Optimal objective  1.100000000e+01\n"
     ]
    }
   ],
   "source": [
    "solve(BDSP1)\n",
    "μ = getindex(BDSP1, :μ)\n",
    "\n",
    "θ = getindex(BMP, :θ)\n",
    "x = getindex(BMP, :x)\n",
    "@constraint(BMP, θ[1]>= 0.5*x[1] + x[2] + getvalue(μ)*(6-x[1]-x[2]))\n",
    "\n",
    "solve(BDSP2)\n",
    "μ = getindex(BDSP2, :μ)\n",
    "\n",
    "@constraint(BMP,  θ[2]>= 0.5*x[1] + x[2] + getvalue(μ)*(7+3x[1]-2*x[2]))\n",
    "\n",
    "solve(BMP)\n",
    "xbar = getindex(BDSP1, :xbar)\n",
    "setlowerbound(xbar[1],getvalue(x[1]))\n",
    "setupperbound(xbar[1],getvalue(x[1]))\n",
    "\n",
    "setlowerbound(xbar[2],getvalue(x[2]))\n",
    "setupperbound(xbar[2],getvalue(x[2]))\n",
    "\n",
    "xbar = getindex(BDSP2, :xbar)\n",
    "setlowerbound(xbar[1],getvalue(x[1]))\n",
    "setupperbound(xbar[1],getvalue(x[1]))\n",
    "\n",
    "setlowerbound(xbar[2],getvalue(x[2]))\n",
    "setupperbound(xbar[2],getvalue(x[2]));"
   ]
  },
  {
   "cell_type": "markdown",
   "metadata": {},
   "source": [
    "# BDSPs to LMP\n",
    "\n",
    "We can also use the solutions from the BDSPs to make a cut to the LMP such that:\n",
    "\n",
    "$\\kappa_s \\leq z^k_s + \\lambda_sH_s\\hat x_s^k$"
   ]
  },
  {
   "cell_type": "code",
   "execution_count": 206,
   "metadata": {},
   "outputs": [
    {
     "data": {
      "text/latex": [
       "$$ κ_{2} + 9 λ_{2} \\leq 9 $$"
      ],
      "text/plain": [
       "κ[2] + 9 λ[2] ≤ 9"
      ]
     },
     "execution_count": 206,
     "metadata": {},
     "output_type": "execute_result"
    }
   ],
   "source": [
    "zk1 = getobjectivevalue(BDSP1)\n",
    "zk2 = getobjectivevalue(BDSP2)\n",
    "\n",
    "xhat = getindex(BDSP1, :xbar)\n",
    "κ = getindex(LMP, :κ)\n",
    "λ = getindex(LMP, :λ)\n",
    "\n",
    "xhat1 = getvalue(xhat[1])\n",
    "xhat2 = getvalue(xhat[2])\n",
    "\n",
    "@constraint(LMP, κ[1] <= zk1 - λ[1]*xhat1+λ[2]xhat2)\n",
    "@constraint(LMP, κ[2] <= zk2 + λ[1]*xhat1-λ[2]xhat2)"
   ]
  },
  {
   "cell_type": "markdown",
   "metadata": {},
   "source": [
    "# LSPs to LMP\n",
    "\n",
    "Now we move on and solve the LSPs. The solutions are then used to make a cut to the LMP such that:\n",
    "\n",
    "$\\kappa_s \\leq \\tau_sc^Tx + \\lambda_sH_s\\tilde x_s^k$"
   ]
  },
  {
   "cell_type": "code",
   "execution_count": 207,
   "metadata": {},
   "outputs": [
    {
     "name": "stdout",
     "output_type": "stream",
     "text": [
      "Min xA[1]*λ[1] + xA[2]*λ[2] + 0.5 xA[1] + xA[2] + 3 y\n",
      "Subject to\n",
      " xA[1] + xA[2] + y ≥ 6\n",
      " xA[i] ≥ 0 ∀ i ∈ {1,2}\n",
      " 0 ≤ λ[i] ≤ 0 ∀ i ∈ {1,2}\n",
      " y ≥ 0\n",
      "Min -xB[1]*λ[1] - xB[2]*λ[2] + 0.5 xB[1] + xB[2] + 4 w\n",
      "Subject to\n",
      " -3 xB[1] - 2 xB[2] + w ≥ 7\n",
      " xB[i] ≥ 0 ∀ i ∈ {1,2}\n",
      " 0 ≤ λ[i] ≤ 0 ∀ i ∈ {1,2}\n",
      " w ≥ 0\n",
      "Academic license - for non-commercial use only\n",
      "Optimize a model with 1 rows, 5 columns and 3 nonzeros\n",
      "Model has 2 quadratic objective terms\n",
      "Coefficient statistics:\n",
      "  Matrix range     [1e+00, 1e+00]\n",
      "  Objective range  [5e-01, 3e+00]\n",
      "  QObjective range [2e+00, 2e+00]\n",
      "  Bounds range     [0e+00, 0e+00]\n",
      "  RHS range        [6e+00, 6e+00]\n",
      "Presolve removed 0 rows and 2 columns\n",
      "Presolve time: 0.00s\n",
      "Presolved: 1 rows, 3 columns, 3 nonzeros\n",
      "Ordering time: 0.00s\n",
      "\n",
      "Barrier statistics:\n",
      " AA' NZ     : 0.000e+00\n",
      " Factor NZ  : 1.000e+00\n",
      " Factor Ops : 1.000e+00 (less than 1 second per iteration)\n",
      " Threads    : 1\n",
      "\n",
      "                  Objective                Residual\n",
      "Iter       Primal          Dual         Primal    Dual     Compl     Time\n",
      "   0   2.91382462e+01  0.00000000e+00  0.00e+00 0.00e+00  1.32e+01     0s\n",
      "   1   7.18828393e+00  1.96759157e+00  0.00e+00 0.00e+00  1.31e+00     0s\n",
      "   2   3.24650529e+00  2.99936568e+00  0.00e+00 4.44e-16  6.18e-02     0s\n",
      "   3   3.00024648e+00  2.99999934e+00  0.00e+00 0.00e+00  6.18e-05     0s\n",
      "   4   3.00000025e+00  3.00000000e+00  0.00e+00 4.44e-16  6.18e-08     0s\n",
      "   5   3.00000000e+00  3.00000000e+00  0.00e+00 0.00e+00  6.18e-14     0s\n",
      "\n",
      "Barrier solved model in 5 iterations and 0.02 seconds\n",
      "Optimal objective 3.00000000e+00\n",
      "\n",
      "Academic license - for non-commercial use only\n",
      "Optimize a model with 1 rows, 5 columns and 3 nonzeros\n",
      "Model has 2 quadratic objective terms\n",
      "Coefficient statistics:\n",
      "  Matrix range     [1e+00, 3e+00]\n",
      "  Objective range  [5e-01, 4e+00]\n",
      "  QObjective range [2e+00, 2e+00]\n",
      "  Bounds range     [0e+00, 0e+00]\n",
      "  RHS range        [7e+00, 7e+00]\n",
      "Presolve removed 1 rows and 5 columns\n",
      "Presolve time: 0.00s\n",
      "Presolve: All rows and columns removed\n",
      "\n",
      "Barrier solved model in 0 iterations and 0.00 seconds\n",
      "Optimal objective 2.80000000e+01\n",
      "0.0\n",
      "0.0\n",
      "7.0\n"
     ]
    },
    {
     "data": {
      "text/latex": [
       "$$ κ_{2} \\leq 28 $$"
      ],
      "text/plain": [
       "κ[2] ≤ 28"
      ]
     },
     "execution_count": 207,
     "metadata": {},
     "output_type": "execute_result"
    }
   ],
   "source": [
    "print(LSP1)\n",
    "print(LSP2)\n",
    "solve(LSP1)\n",
    "x = getindex(LSP1, :xA)\n",
    "y = getindex(LSP1, :y)\n",
    "\n",
    "zk1 = getobjectivevalue(LSP1)\n",
    "xA1 = getvalue(x[1])\n",
    "xA2 = getvalue(x[2])\n",
    "y1 = getvalue(y)\n",
    "\n",
    "\n",
    "solve(LSP2)\n",
    "x = getindex(LSP2, :xB)\n",
    "w = getindex(LSP2, :w)\n",
    "zk2 = getobjectivevalue(LSP2)\n",
    "xB1 = getvalue(x[1])\n",
    "xB2 = getvalue(x[2])\n",
    "w2 = getvalue(w)\n",
    "\n",
    "println(xB1)\n",
    "println(xB2)\n",
    "println(w2)\n",
    "\n",
    "κ = getindex(LMP, :κ)\n",
    "λ = getindex(LMP, :λ)\n",
    "\n",
    "@constraint(LMP, κ[1] <= 0.5*xA1 + xA2 + 3*y1 - λ[1]*xA1 + λ[2]*xA2)\n",
    "@constraint(LMP, κ[2] <= 0.5*xB1 + xB2 + 4*w2 + λ[1]*xB1 - λ[2]*xB2)"
   ]
  },
  {
   "cell_type": "markdown",
   "metadata": {},
   "source": [
    "# LSPs to BMP"
   ]
  },
  {
   "cell_type": "code",
   "execution_count": 208,
   "metadata": {},
   "outputs": [
    {
     "data": {
      "text/latex": [
       "$$ θ_{2} \\geq 28 $$"
      ],
      "text/plain": [
       "θ[2] ≥ 28"
      ]
     },
     "execution_count": 208,
     "metadata": {},
     "output_type": "execute_result"
    }
   ],
   "source": [
    "θ = getindex(BMP, :θ)\n",
    "x = getindex(BMP, :x)\n",
    "λ = getindex(LSP1, :λ)\n",
    "\n",
    "λ1 = getvalue(λ[1])\n",
    "λ2 = getvalue(λ[2])\n",
    "\n",
    "@constraint(BMP, θ[1]>=zk1+λ1*x[1]+λ2*x[2])\n",
    "\n",
    "λ = getindex(LSP2, :λ)\n",
    "\n",
    "λ1 = getvalue(λ[1])\n",
    "λ2 = getvalue(λ[2])\n",
    "\n",
    "\n",
    "@constraint(BMP, θ[2]>=zk2-λ1*x[1]-λ2*x[2])"
   ]
  },
  {
   "cell_type": "markdown",
   "metadata": {},
   "source": [
    "# LMP to LSPs"
   ]
  },
  {
   "cell_type": "code",
   "execution_count": 209,
   "metadata": {},
   "outputs": [
    {
     "name": "stdout",
     "output_type": "stream",
     "text": [
      "Academic license - for non-commercial use only\n",
      "Optimize a model with 5 rows, 5 columns and 11 nonzeros\n",
      "Coefficient statistics:\n",
      "  Matrix range     [3e-13, 9e+00]\n",
      "  Objective range  [1e+00, 1e+00]\n",
      "  Bounds range     [0e+00, 0e+00]\n",
      "  RHS range        [3e+00, 3e+01]\n",
      "Presolve removed 5 rows and 5 columns\n",
      "Presolve time: 0.00s\n",
      "Presolve: All rows and columns removed\n",
      "Iteration    Objective       Primal Inf.    Dual Inf.      Time\n",
      "       0    1.2000000e+01   0.000000e+00   0.000000e+00      0s\n",
      "\n",
      "Solved in 0 iterations and 0.00 seconds\n",
      "Optimal objective  1.200000000e+01\n"
     ]
    }
   ],
   "source": [
    "solve(LMP)\n",
    "λ = getindex(LMP, :λ)\n",
    "\n",
    "λ1 = getvalue(λ[1])\n",
    "λ2 = getvalue(λ[2])\n",
    "\n",
    "λ = getindex(LSP1, :λ)\n",
    "setupperbound(λ[1],λ1)\n",
    "setlowerbound(λ[1],λ1)\n",
    "setupperbound(λ[2],λ2)\n",
    "setlowerbound(λ[2],λ2)\n",
    "\n",
    "λ = getindex(LSP2, :λ)\n",
    "setupperbound(λ[1],λ1)\n",
    "setlowerbound(λ[1],λ1)\n",
    "setupperbound(λ[2],λ2)\n",
    "setlowerbound(λ[2],λ2);"
   ]
  },
  {
   "cell_type": "markdown",
   "metadata": {},
   "source": [
    "# BMP"
   ]
  },
  {
   "cell_type": "code",
   "execution_count": 210,
   "metadata": {},
   "outputs": [
    {
     "name": "stdout",
     "output_type": "stream",
     "text": [
      "Min θ[1] + θ[2]\n",
      "Subject to\n",
      " θ[1] + 2.5 x[1] + 2 x[2] ≥ 18\n",
      " θ[2] - 12.5 x[1] + 7 x[2] ≥ 28\n",
      " θ[1] - 0.5 x[1] - x[2] ≥ 0\n",
      " θ[2] - 0.5 x[1] - x[2] ≥ 0\n",
      " θ[1] ≥ 3.0000000000002465\n",
      " θ[2] ≥ 28\n",
      " x[i] ≥ 0 ∀ i ∈ {1,2}\n",
      " θ[i] ≥ 0 ∀ i ∈ {1,2}\n",
      "Optimize a model with 6 rows, 4 columns and 14 nonzeros\n",
      "Coefficient statistics:\n",
      "  Matrix range     [5e-01, 1e+01]\n",
      "  Objective range  [1e+00, 1e+00]\n",
      "  Bounds range     [0e+00, 0e+00]\n",
      "  RHS range        [3e+00, 3e+01]\n",
      "Iteration    Objective       Primal Inf.    Dual Inf.      Time\n",
      "       0    1.1000000e+01   2.250000e+01   0.000000e+00      0s\n",
      "       1    3.2923077e+01   0.000000e+00   0.000000e+00      0s\n",
      "\n",
      "Solved in 1 iterations and 0.00 seconds\n",
      "Optimal objective  3.292307692e+01\n",
      "[2.15385, 3.84615]"
     ]
    }
   ],
   "source": [
    "print(BMP)\n",
    "solve(BMP)\n",
    "print(getvalue(getindex(BMP, :x)))"
   ]
  },
  {
   "cell_type": "code",
   "execution_count": null,
   "metadata": {
    "collapsed": true
   },
   "outputs": [],
   "source": []
  },
  {
   "cell_type": "code",
   "execution_count": null,
   "metadata": {
    "collapsed": true
   },
   "outputs": [],
   "source": []
  },
  {
   "cell_type": "code",
   "execution_count": null,
   "metadata": {
    "collapsed": true
   },
   "outputs": [],
   "source": []
  }
 ],
 "metadata": {
  "kernelspec": {
   "display_name": "Julia 0.6.2",
   "language": "julia",
   "name": "julia-0.6"
  },
  "language_info": {
   "file_extension": ".jl",
   "mimetype": "application/julia",
   "name": "julia",
   "version": "0.6.2"
  }
 },
 "nbformat": 4,
 "nbformat_minor": 2
}
