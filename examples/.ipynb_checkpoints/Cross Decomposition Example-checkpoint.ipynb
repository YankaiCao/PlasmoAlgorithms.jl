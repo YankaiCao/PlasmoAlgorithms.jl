{
 "cells": [
  {
   "cell_type": "markdown",
   "metadata": {},
   "source": [
    "# Cross Decomposition Example\n",
    "\n",
    "Original Model: \n",
    "\n",
    "$ \\min \\> x_1 + 2x_2 +3y + 4w\\\\\n",
    "s.t. \\> \\>\n",
    "x_1 + x_2 + y \\geq 6\\\\\n",
    "-3x_1 + 2x_2 + w \\geq 7\\\\\n",
    "x,y,w \\geq 0\\\\\n",
    "$\n"
   ]
  },
  {
   "cell_type": "code",
   "execution_count": 2,
   "metadata": {},
   "outputs": [
    {
     "name": "stdout",
     "output_type": "stream",
     "text": [
      "Optimize a model with 2 rows, 4 columns and 6 nonzeros\n",
      "Coefficient statistics:\n",
      "  Matrix range     [1e+00, 3e+00]\n",
      "  Objective range  [1e+00, 4e+00]\n",
      "  Bounds range     [0e+00, 0e+00]\n",
      "  RHS range        [6e+00, 7e+00]\n",
      "Presolve removed 0 rows and 2 columns\n",
      "Presolve time: 0.00s\n",
      "Presolved: 2 rows, 2 columns, 4 nonzeros\n",
      "\n",
      "Iteration    Objective       Primal Inf.    Dual Inf.      Time\n",
      "       0    9.4955000e+00   1.880625e+00   0.000000e+00      0s\n",
      "       1    1.1000000e+01   0.000000e+00   0.000000e+00      0s\n",
      "\n",
      "Solved in 1 iterations and 0.00 seconds\n",
      "Optimal objective  1.100000000e+01\n",
      "Min x[1] + 2 x[2] + 3 y + 4 w\n",
      "Subject to\n",
      " x[1] + x[2] + y ≥ 6\n",
      " -3 x[1] + 2 x[2] + w ≥ 7\n",
      " x[i] ≥ 0 ∀ i ∈ {1,2}\n",
      " y ≥ 0\n",
      " w ≥ 0\n",
      "x = [1.0, 5.0]\n",
      "y = 0.0\n",
      "w = 0.0\n"
     ]
    }
   ],
   "source": [
    "using JuMP\n",
    "using Gurobi\n",
    "\n",
    "originalModel = Model(solver = GurobiSolver())\n",
    "\n",
    "@variable(originalModel, x[1:2]>=0)\n",
    "@variable(originalModel, y>=0)\n",
    "@variable(originalModel, w>=0)\n",
    "\n",
    "@constraint(originalModel, x[1]+x[2]+y>=6)\n",
    "@constraint(originalModel, -3x[1]+2x[2]+w>=7)\n",
    "\n",
    "@objective(originalModel, Min, x[1]+2x[2]+3y+4w)\n",
    "\n",
    "solve(originalModel)\n",
    "\n",
    "x = getindex(originalModel,:x)\n",
    "y = getindex(originalModel,:y)\n",
    "w = getindex(originalModel,:w)\n",
    "\n",
    "print(originalModel)\n",
    "\n",
    "println(\"x = \", getvalue(x))\n",
    "println(\"y = \", getvalue(y))\n",
    "println(\"w = \", getvalue(w))"
   ]
  },
  {
   "cell_type": "markdown",
   "metadata": {},
   "source": [
    "Reformulated Model:\n",
    "    \n",
    "$\\min \\> x_{A1} + 2x_{A2}+ 3y + 4w\\\\\n",
    "s.t. \\> \\>\n",
    "x_{A1}+x_{A2}+ y \\geq 6\\\\\n",
    "-3x_{B1}+2x_{B2}+w\\geq 7\\\\\n",
    "x_{A1}-x_{B1} = 0\\\\\n",
    "x_{A2}-x_{B2} = 0\\\\\n",
    "$"
   ]
  },
  {
   "cell_type": "code",
   "execution_count": 26,
   "metadata": {},
   "outputs": [
    {
     "name": "stdout",
     "output_type": "stream",
     "text": [
      "Academic license - for non-commercial use only\n",
      "Optimize a model with 4 rows, 6 columns and 10 nonzeros\n",
      "Coefficient statistics:\n",
      "  Matrix range     [1e+00, 3e+00]\n",
      "  Objective range  [1e+00, 4e+00]\n",
      "  Bounds range     [0e+00, 0e+00]\n",
      "  RHS range        [6e+00, 7e+00]\n",
      "Presolve removed 2 rows and 4 columns\n",
      "Presolve time: 0.00s\n",
      "Presolved: 2 rows, 2 columns, 4 nonzeros\n",
      "\n",
      "Iteration    Objective       Primal Inf.    Dual Inf.      Time\n",
      "       0    9.4955000e+00   1.880625e+00   0.000000e+00      0s\n",
      "       1    1.1000000e+01   0.000000e+00   0.000000e+00      0s\n",
      "\n",
      "Solved in 1 iterations and 0.00 seconds\n",
      "Optimal objective  1.100000000e+01\n",
      "x = [1.0, 5.0]\n",
      "y = 0.0\n",
      "w = 0.0\n"
     ]
    }
   ],
   "source": [
    "using JuMP\n",
    "using Gurobi\n",
    "reformulatedModel = Model(solver = GurobiSolver())\n",
    "\n",
    "@variable(reformulatedModel, xA[1:2]>=0)\n",
    "@variable(reformulatedModel, xB[1:2]>=0)\n",
    "@variable(reformulatedModel, y>=0)\n",
    "@variable(reformulatedModel, w>=0)\n",
    "\n",
    "@objective(reformulatedModel, Min, xA[1] + 2xA[2] + 3y + 4w)\n",
    "\n",
    "@constraint(reformulatedModel, xA[1] + xA[2] + y >= 6)\n",
    "@constraint(reformulatedModel, -3xB[1] + 2xB[2] + w >= 7)\n",
    "@constraint(reformulatedModel, dual1, xA[1] - xB[1] == 0)\n",
    "@constraint(reformulatedModel, dual2, xA[2] - xB[2] == 0)\n",
    "\n",
    "solve(reformulatedModel)\n",
    "\n",
    "x = getindex(reformulatedModel,:xA)\n",
    "y = getindex(reformulatedModel,:y)\n",
    "w = getindex(reformulatedModel,:w)\n",
    "\n",
    "println(\"x = \", getvalue(x))\n",
    "println(\"y = \", getvalue(y))\n",
    "println(\"w = \", getvalue(w))"
   ]
  },
  {
   "cell_type": "markdown",
   "metadata": {},
   "source": [
    "Bender's Master Problem:\n",
    "\n",
    "$\\min \\> x_1 + 2x_2 + \\theta_1 + \\theta_2 \\\\ \n",
    "s.t. \\> \\> x, \\theta \\geq 0\\\\\n",
    "$\n",
    "\n",
    "\n",
    "Bender's SP 1:\n",
    "\n",
    "$ \\min \\> 3y \\\\\n",
    "s.t. \\> \\> x_1 + x_2 + y \\geq 6\\\\\n",
    "x_1 - \\bar x_1 = 0 \\\\\n",
    "x_2 - \\bar x_2 = 0 \\\\\n",
    "y \\geq 0 \\\\\n",
    "$\n",
    "\n",
    "\n",
    "Bender's SP 2:\n",
    "\n",
    "$ \\min \\> 4w \\\\\n",
    "s.t. \\> \\> -3x_1 + 2x_2 + w \\geq 7\\\\\n",
    "x_1 - \\bar x_1 = 0 \\\\\n",
    "x_2 - \\bar x_2 = 0 \\\\\n",
    "w \\geq 0 \\\\\n",
    "$"
   ]
  },
  {
   "cell_type": "code",
   "execution_count": 27,
   "metadata": {},
   "outputs": [
    {
     "data": {
      "text/latex": [
       "$$ 4 w $$"
      ],
      "text/plain": [
       "4 w"
      ]
     },
     "execution_count": 27,
     "metadata": {},
     "output_type": "execute_result"
    }
   ],
   "source": [
    "using JuMP\n",
    "using Gurobi\n",
    "BMP = Model(solver = GurobiSolver())\n",
    "BSP1 = Model(solver = GurobiSolver())\n",
    "BSP2 = Model(solver = GurobiSolver())\n",
    "\n",
    "@variable(BMP, x[1:2] >= 0)\n",
    "@variable(BMP, θ[1:2] >= 0)\n",
    "\n",
    "@objective(BMP, Min, x[1]+x[2]+θ[1]+θ[2])\n",
    "\n",
    "\n",
    "@variable(BSP1, xbar[1:2])\n",
    "@variable(BSP1, x[1:2]>=0)\n",
    "@variable(BSP1, y >=0)\n",
    "\n",
    "@constraint(BSP1, x[1] + x[2] + y >= 6)\n",
    "@constraint(BSP1, dual1, x[1]-xbar[1]==0)\n",
    "@constraint(BSP1, dual2, x[2]-xbar[2]==0)\n",
    "\n",
    "@objective(BSP1, Min, 3y)\n",
    "\n",
    "@variable(BSP2, xbar[1:2])\n",
    "@variable(BSP2, x[1:2]>=0)\n",
    "@variable(BSP2, w >=0)\n",
    "\n",
    "@constraint(BSP2, -3x[1] + x[2] + w >= 7)\n",
    "@constraint(BSP2, dual1, x[1]-xbar[1]==0)\n",
    "@constraint(BSP2, dual2, x[2]-xbar[2]==0)\n",
    "\n",
    "@objective(BSP2, Min, 4w)"
   ]
  },
  {
   "cell_type": "markdown",
   "metadata": {},
   "source": [
    "Lagrange Master Problem:\n",
    "\n",
    "$ \\max \\> \\eta \\\\\n",
    "s.t. \\> \\> \\eta \\leq z_{k1} + z_{k2} + \\lambda_1 (x_{A1}-x_{B1}) + \\lambda_2 (x_{A2}-x_{B2}) \\\\\n",
    "$\n",
    "\n",
    "Lagrange SP 1:\n",
    "\n",
    "$ \\min \\> x_{A1} + 2x_{A2} + 3y +\\lambda_1x_{A1} + \\lambda_2x_{A2}\\\\\n",
    "   s.t. \\> \\> x_{A1} + x_{A2} + y \\geq 6 \\\\\n",
    "   x_A,y \\geq 0 \\\\\n",
    "$\n",
    "\n",
    "Lagrange SP 2:\n",
    "\n",
    "$ \\min \\> 4w - \\lambda_1x_{B1} - \\lambda_2x_{B2}\\\\\n",
    "   s.t. \\> \\> x_{B1} + x_{B2} + y \\geq 6 \\\\\n",
    "   x_B,y \\geq 0 \\\\\n",
    "$"
   ]
  },
  {
   "cell_type": "code",
   "execution_count": 77,
   "metadata": {},
   "outputs": [
    {
     "data": {
      "text/plain": [
       ":Min"
      ]
     },
     "execution_count": 77,
     "metadata": {},
     "output_type": "execute_result"
    }
   ],
   "source": [
    "LMP = Model(solver = GurobiSolver())\n",
    "LSP1 = Model(solver = GurobiSolver())\n",
    "LSP2 = Model(solver = GurobiSolver())\n",
    "\n",
    "@variable(LMP, η<=0)\n",
    "@variable(LMP, zk[1:2])\n",
    "@variable(LMP, λ[1:2]>=0)\n",
    "@variable(LMP, xA[1:2]>=0)\n",
    "@variable(LMP, xB[1:2]>=0)\n",
    "\n",
    "@constraint(LMP, η<= zk[1]+zk[2]+λ[1]*(xA[1]-xB[1])+λ[2]*(xA[2]-xB[2]))\n",
    "\n",
    "@objective(LMP, Max, η)\n",
    "\n",
    "@variable(LSP1, xA[1:2]>=0)\n",
    "@variable(LSP1, y>= 0)\n",
    "@variable(LSP1, λ[1:2]>=0)\n",
    "\n",
    "@constraint(LSP1, xA[1]+xA[2]+y>=6)\n",
    "@objective(LSP1, Min, xA[1]+2xA[2]+3y+λ[1]*xA[1]+λ[2]*xA[2])\n",
    "\n",
    "@variable(LSP2, xB[1:2]>=0)\n",
    "@variable(LSP2, w>= 0)\n",
    "@variable(LSP2, λ[1:2]>=0)\n",
    "\n",
    "@constraint(LSP2,λ[1:2].<=0)\n",
    "@constraint(LSP2, -3xB[1]+xB[2]+w>=7)\n",
    "@objective(LSP2, Min, 4w - λ[1]*xB[1]-λ[2]*xB[2])"
   ]
  },
  {
   "cell_type": "markdown",
   "metadata": {},
   "source": [
    "Solve benders master to get $\\bar x$ values:"
   ]
  },
  {
   "cell_type": "code",
   "execution_count": 78,
   "metadata": {},
   "outputs": [
    {
     "name": "stdout",
     "output_type": "stream",
     "text": [
      "Optimize a model with 0 rows, 4 columns and 0 nonzeros\n",
      "Coefficient statistics:\n",
      "  Matrix range     [0e+00, 0e+00]\n",
      "  Objective range  [1e+00, 1e+00]\n",
      "  Bounds range     [0e+00, 0e+00]\n",
      "  RHS range        [0e+00, 0e+00]\n",
      "Iteration    Objective       Primal Inf.    Dual Inf.      Time\n",
      "       0    0.0000000e+00   0.000000e+00   0.000000e+00      0s\n",
      "\n",
      "Solved in 0 iterations and 0.00 seconds\n",
      "Optimal objective  0.000000000e+00\n",
      "[0.0, 0.0]"
     ]
    }
   ],
   "source": [
    "solve(BMP)\n",
    "x = getindex(BMP,:x)\n",
    "print(getvalue(x))"
   ]
  },
  {
   "cell_type": "markdown",
   "metadata": {},
   "source": [
    "Solution: $x_1, x_2 = (0,0)$\n",
    "\n",
    "Now fix these values into BSPs:"
   ]
  },
  {
   "cell_type": "code",
   "execution_count": 79,
   "metadata": {},
   "outputs": [
    {
     "data": {
      "text/plain": [
       "0"
      ]
     },
     "execution_count": 79,
     "metadata": {},
     "output_type": "execute_result"
    }
   ],
   "source": [
    "x = getindex(BSP1, :xbar)\n",
    "\n",
    "setlowerbound(x[1],0)\n",
    "setupperbound(x[1],0)\n",
    "\n",
    "setlowerbound(x[2],0)\n",
    "setupperbound(x[2],0)\n",
    "\n",
    "x = getindex(BSP2, :xbar)\n",
    "\n",
    "setlowerbound(x[1],0)\n",
    "setupperbound(x[1],0)\n",
    "\n",
    "setlowerbound(x[2],0)\n",
    "setupperbound(x[2],0)"
   ]
  },
  {
   "cell_type": "markdown",
   "metadata": {},
   "source": [
    "Now that the values from the BMP have been fixed into the BSPs, we can get the duals, $\\mu$s, and objectives, $\\theta$s from the BSPs:"
   ]
  },
  {
   "cell_type": "code",
   "execution_count": 80,
   "metadata": {},
   "outputs": [
    {
     "name": "stdout",
     "output_type": "stream",
     "text": [
      "Optimize a model with 3 rows, 5 columns and 7 nonzeros\n",
      "Coefficient statistics:\n",
      "  Matrix range     [1e+00, 1e+00]\n",
      "  Objective range  [3e+00, 3e+00]\n",
      "  Bounds range     [0e+00, 0e+00]\n",
      "  RHS range        [6e+00, 6e+00]\n",
      "Iteration    Objective       Primal Inf.    Dual Inf.      Time\n",
      "       0    1.8000000e+01   0.000000e+00   0.000000e+00      0s\n",
      "\n",
      "Solved in 0 iterations and 0.00 seconds\n",
      "Optimal objective  1.800000000e+01\n",
      "Optimize a model with 3 rows, 5 columns and 7 nonzeros\n",
      "Coefficient statistics:\n",
      "  Matrix range     [1e+00, 3e+00]\n",
      "  Objective range  [4e+00, 4e+00]\n",
      "  Bounds range     [0e+00, 0e+00]\n",
      "  RHS range        [7e+00, 7e+00]\n",
      "Iteration    Objective       Primal Inf.    Dual Inf.      Time\n",
      "       0    2.8000000e+01   0.000000e+00   0.000000e+00      0s\n",
      "\n",
      "Solved in 0 iterations and 0.00 seconds\n",
      "Optimal objective  2.800000000e+01\n"
     ]
    },
    {
     "data": {
      "text/plain": [
       "28.0"
      ]
     },
     "execution_count": 80,
     "metadata": {},
     "output_type": "execute_result"
    }
   ],
   "source": [
    "solve(BSP1)\n",
    "dual1 = getindex(BSP1,:dual1)\n",
    "dual2 = getindex(BSP1,:dual2)\n",
    "\n",
    "μ11 = getdual(dual1)\n",
    "μ12 = getdual(dual2)\n",
    "θk1 = getobjectivevalue(BSP1)\n",
    "\n",
    "solve(BSP2)\n",
    "dual1 = getindex(BSP2,:dual1)\n",
    "dual2 = getindex(BSP2,:dual2)\n",
    "\n",
    "μ21 = getdual(dual1)\n",
    "μ22 = getdual(dual2)\n",
    "θk2 = getobjectivevalue(BSP2)"
   ]
  },
  {
   "cell_type": "markdown",
   "metadata": {},
   "source": [
    "With this information from the BSPs, we can make a cut from the BSP to the LMP such that:\n",
    "\n",
    "$z_k \\leq \\theta_k + \\sum\\lambda_i \\bar x_i$"
   ]
  },
  {
   "cell_type": "code",
   "execution_count": 81,
   "metadata": {},
   "outputs": [
    {
     "name": "stdout",
     "output_type": "stream",
     "text": [
      "Min xA[1]*λ[1] + xA[2]*λ[2] + xA[1] + 2 xA[2] + 3 y\n",
      "Subject to\n",
      " xA[1] + xA[2] + y ≥ 6\n",
      " xA[i] ≥ 0 ∀ i ∈ {1,2}\n",
      " λ[i] ≥ 0 ∀ i ∈ {1,2}\n",
      " y ≥ 0\n",
      "Academic license - for non-commercial use only\n",
      "Optimize a model with 1 rows, 5 columns and 3 nonzeros\n",
      "Model has 2 quadratic objective terms\n",
      "Coefficient statistics:\n",
      "  Matrix range     [1e+00, 1e+00]\n",
      "  Objective range  [1e+00, 3e+00]\n",
      "  QObjective range [2e+00, 2e+00]\n",
      "  Bounds range     [0e+00, 0e+00]\n",
      "  RHS range        [6e+00, 6e+00]\n",
      "Presolve removed 0 rows and 2 columns\n",
      "Presolve time: 0.00s\n",
      "Presolved: 1 rows, 3 columns, 3 nonzeros\n",
      "Ordering time: 0.00s\n",
      "\n",
      "Barrier statistics:\n",
      " AA' NZ     : 0.000e+00\n",
      " Factor NZ  : 1.000e+00\n",
      " Factor Ops : 1.000e+00 (less than 1 second per iteration)\n",
      " Threads    : 1\n",
      "\n",
      "                  Objective                Residual\n",
      "Iter       Primal          Dual         Primal    Dual     Compl     Time\n",
      "   0   3.88510251e+01  0.00000000e+00  0.00e+00 0.00e+00  1.55e+01     0s\n",
      "   1   1.11440493e+01  4.17311311e+00  0.00e+00 0.00e+00  1.74e+00     0s\n",
      "   2   6.28147788e+00  5.97708258e+00  0.00e+00 0.00e+00  7.61e-02     0s\n",
      "   3   6.00028214e+00  5.99997774e+00  0.00e+00 0.00e+00  7.61e-05     0s\n",
      "   4   6.00000028e+00  5.99999998e+00  0.00e+00 0.00e+00  7.61e-08     0s\n",
      "   5   6.00000000e+00  6.00000000e+00  0.00e+00 1.11e-16  7.61e-14     0s\n",
      "\n",
      "Barrier solved model in 5 iterations and 0.00 seconds\n",
      "Optimal objective 6.00000000e+00\n",
      "\n",
      "Min -xB[1]*λ[1] - xB[2]*λ[2] + 4 w\n",
      "Subject to\n",
      " λ[1] ≤ 0\n",
      " λ[2] ≤ 0\n",
      " -3 xB[1] + xB[2] + w ≥ 7\n",
      " xB[i] ≥ 0 ∀ i ∈ {1,2}\n",
      " λ[i] ≥ 0 ∀ i ∈ {1,2}\n",
      " w ≥ 0\n",
      "Academic license - for non-commercial use only\n",
      "Optimize a model with 3 rows, 5 columns and 5 nonzeros\n",
      "Model has 2 quadratic objective terms\n",
      "Coefficient statistics:\n",
      "  Matrix range     [1e+00, 3e+00]\n",
      "  Objective range  [4e+00, 4e+00]\n",
      "  QObjective range [2e+00, 2e+00]\n",
      "  Bounds range     [0e+00, 0e+00]\n",
      "  RHS range        [7e+00, 7e+00]\n",
      "Presolve removed 2 rows and 3 columns\n",
      "Presolve time: 0.00s\n",
      "Presolved: 1 rows, 2 columns, 2 nonzeros\n",
      "Ordering time: 0.00s\n",
      "\n",
      "Barrier statistics:\n",
      " AA' NZ     : 0.000e+00\n",
      " Factor NZ  : 1.000e+00\n",
      " Factor Ops : 1.000e+00 (less than 1 second per iteration)\n",
      " Threads    : 1\n",
      "\n",
      "                  Objective                Residual\n",
      "Iter       Primal          Dual         Primal    Dual     Compl     Time\n",
      "   0   3.61425109e+01  0.00000000e+00  0.00e+00 0.00e+00  2.06e+01     0s\n",
      "   1   4.43361096e-03  7.24956805e-01  0.00e+00 1.04e-01  2.55e-01     0s\n",
      "   2   4.46479417e-06  1.91833248e-07  0.00e+00 2.74e-08  2.28e-06     0s\n",
      "   3   4.46479412e-09  3.75936796e-12  0.00e+00 5.37e-13  1.50e-09     0s\n",
      "\n",
      "Barrier solved model in 3 iterations and 0.00 seconds\n",
      "Optimal objective 4.46479412e-09\n",
      "\n",
      "Max η\n",
      "Subject to\n",
      " -λ[1]*xA[1] - λ[2]*xA[2] + λ[1]*xB[1] + λ[2]*xB[2] + η - zk[1] - zk[2] ≤ 0\n",
      " zk[i] ∀ i ∈ {1,2}\n",
      " λ[i] ≥ 0 ∀ i ∈ {1,2}\n",
      " η ≤ 0\n",
      " 6.000000000000084 ≤ xA[1] ≤ 6.000000000000084\n",
      " 6.562803661294217e-14 ≤ xA[2] ≤ 6.562803661294217e-14\n",
      " 0 ≤ xB[1] ≤ 0\n",
      " 10.6642651943477 ≤ xB[2] ≤ 10.6642651943477\n"
     ]
    }
   ],
   "source": [
    "print(LSP1)\n",
    "solve(LSP1)\n",
    "λ = getindex(LSP1, :λ)\n",
    "x = getindex(LSP1, :xA)\n",
    "y = getindex(LSP1, :y)\n",
    "\n",
    "xMP = getindex(LMP, :xA)\n",
    "\n",
    "setlowerbound(xMP[1],getvalue(x[1]))\n",
    "setupperbound(xMP[1],getvalue(x[1]))\n",
    "setlowerbound(xMP[2],getvalue(x[2]))\n",
    "setupperbound(xMP[2],getvalue(x[2]))\n",
    "\n",
    "print(LSP2)\n",
    "solve(LSP2)\n",
    "λ = getindex(LSP2, :λ)\n",
    "x = getindex(LSP2, :xB)\n",
    "y = getindex(LSP2, :w)\n",
    "\n",
    "xMP = getindex(LMP, :xB)\n",
    "\n",
    "setlowerbound(xMP[1],getvalue(x[1]))\n",
    "setupperbound(xMP[1],getvalue(x[1]))\n",
    "\n",
    "setlowerbound(xMP[2],getvalue(x[2]))\n",
    "setupperbound(xMP[2],getvalue(x[2]))\n",
    "\n",
    "print(LMP)"
   ]
  },
  {
   "cell_type": "code",
   "execution_count": 82,
   "metadata": {},
   "outputs": [
    {
     "name": "stdout",
     "output_type": "stream",
     "text": [
      "Max η\n",
      "Subject to\n",
      " zk[1] ≤ 18\n",
      " zk[2] ≤ 28\n",
      " -λ[1]*xA[1] - λ[2]*xA[2] + λ[1]*xB[1] + λ[2]*xB[2] + η - zk[1] - zk[2] ≤ 0\n",
      " zk[i] ∀ i ∈ {1,2}\n",
      " λ[i] ≥ 0 ∀ i ∈ {1,2}\n",
      " η ≤ 0\n",
      " 6.000000000000084 ≤ xA[1] ≤ 6.000000000000084\n",
      " 6.562803661294217e-14 ≤ xA[2] ≤ 6.562803661294217e-14\n",
      " 0 ≤ xB[1] ≤ 0\n",
      " 10.6642651943477 ≤ xB[2] ≤ 10.6642651943477\n"
     ]
    }
   ],
   "source": [
    "xbar = getindex(BSP1, :xbar)\n",
    "@constraint(LMP, zk[1] <= θk1+λ[1]*getvalue(xbar[1])+λ[2]*getvalue(xbar[2]))\n",
    "xbar = getindex(BSP2, :xbar)\n",
    "@constraint(LMP, zk[2] <= θk2+λ[1]*getvalue(xbar[1])+λ[2]*getvalue(xbar[2]))\n",
    "print(LMP)"
   ]
  },
  {
   "cell_type": "code",
   "execution_count": 84,
   "metadata": {},
   "outputs": [
    {
     "name": "stdout",
     "output_type": "stream",
     "text": [
      "Optimize a model with 2 rows, 9 columns and 2 nonzeros\n",
      "Model has 1 quadratic constraint\n",
      "Coefficient statistics:\n",
      "  Matrix range     [1e+00, 1e+00]\n",
      "  QMatrix range    [1e+00, 1e+00]\n",
      "  QLMatrix range   [1e+00, 1e+00]\n",
      "  Objective range  [1e+00, 1e+00]\n",
      "  Bounds range     [7e-14, 1e+01]\n",
      "  RHS range        [2e+01, 3e+01]\n",
      "Presolve removed 2 rows and 9 columns\n",
      "Presolve time: 0.01s\n",
      "Presolve: All rows and columns removed\n",
      "\n",
      "Barrier solved model in 0 iterations and 0.01 seconds\n",
      "Optimal objective -0.00000000e+00\n",
      "[0.0, 0.0]"
     ]
    }
   ],
   "source": [
    "solve(LMP)\n",
    "print(getvalue(getindex(LMP,:λ)))"
   ]
  },
  {
   "cell_type": "markdown",
   "metadata": {},
   "source": [
    "To make a cut from the LSPs to the BMP, first we solve the LSPs for the objectives, $z_k$s, and the duals, $\\lambda$s:"
   ]
  },
  {
   "cell_type": "code",
   "execution_count": 85,
   "metadata": {},
   "outputs": [
    {
     "name": "stdout",
     "output_type": "stream",
     "text": [
      "Optimize a model with 1 rows, 5 columns and 3 nonzeros\n",
      "Model has 2 quadratic objective terms\n",
      "Coefficient statistics:\n",
      "  Matrix range     [1e+00, 1e+00]\n",
      "  Objective range  [1e+00, 3e+00]\n",
      "  QObjective range [2e+00, 2e+00]\n",
      "  Bounds range     [0e+00, 0e+00]\n",
      "  RHS range        [6e+00, 6e+00]\n",
      "Presolve removed 0 rows and 2 columns\n",
      "Presolve time: 0.00s\n",
      "Presolved: 1 rows, 3 columns, 3 nonzeros\n",
      "Ordering time: 0.00s\n",
      "\n",
      "Barrier statistics:\n",
      " AA' NZ     : 0.000e+00\n",
      " Factor NZ  : 1.000e+00\n",
      " Factor Ops : 1.000e+00 (less than 1 second per iteration)\n",
      " Threads    : 1\n",
      "\n",
      "                  Objective                Residual\n",
      "Iter       Primal          Dual         Primal    Dual     Compl     Time\n",
      "   0   3.88510251e+01  0.00000000e+00  0.00e+00 0.00e+00  1.55e+01     0s\n",
      "   1   1.11440493e+01  4.17311311e+00  0.00e+00 0.00e+00  1.74e+00     0s\n",
      "   2   6.28147788e+00  5.97708258e+00  0.00e+00 0.00e+00  7.61e-02     0s\n",
      "   3   6.00028214e+00  5.99997774e+00  0.00e+00 0.00e+00  7.61e-05     0s\n",
      "   4   6.00000028e+00  5.99999998e+00  0.00e+00 0.00e+00  7.61e-08     0s\n",
      "   5   6.00000000e+00  6.00000000e+00  0.00e+00 1.11e-16  7.61e-14     0s\n",
      "\n",
      "Barrier solved model in 5 iterations and 0.00 seconds\n",
      "Optimal objective 6.00000000e+00\n",
      "\n"
     ]
    },
    {
     "data": {
      "text/plain": [
       "0.0"
      ]
     },
     "execution_count": 85,
     "metadata": {},
     "output_type": "execute_result"
    }
   ],
   "source": [
    "solve(LSP1)\n",
    "λ = getindex(LSP1,:λ)\n",
    "zk1 = getobjectivevalue(LSP1)\n",
    "λ11 = getvalue(λ[1])\n",
    "λ12 = getvalue(λ[2])\n",
    "\n",
    "#solve(LSP2)\n",
    "λ = getindex(LSP2, :λ)\n",
    "zk2 = getobjectivevalue(LSP2)\n",
    "λ21 = getvalue(λ[1])\n",
    "λ22 = getvalue(λ[2])"
   ]
  },
  {
   "cell_type": "code",
   "execution_count": null,
   "metadata": {
    "collapsed": true
   },
   "outputs": [],
   "source": []
  }
 ],
 "metadata": {
  "kernelspec": {
   "display_name": "Julia 0.6.0",
   "language": "julia",
   "name": "julia-0.6"
  },
  "language_info": {
   "file_extension": ".jl",
   "mimetype": "application/julia",
   "name": "julia",
   "version": "0.6.0"
  }
 },
 "nbformat": 4,
 "nbformat_minor": 2
}
